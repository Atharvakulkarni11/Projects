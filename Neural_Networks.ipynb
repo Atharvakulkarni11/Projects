{
 "cells": [
  {
   "cell_type": "markdown",
   "id": "2fb3c0f0-54d4-460e-8e5f-ce4ad3df84b4",
   "metadata": {},
   "source": [
    "## Importing libraries"
   ]
  },
  {
   "cell_type": "code",
   "execution_count": 1,
   "id": "c30e676f-1501-4302-bf24-07b4ddb855c0",
   "metadata": {},
   "outputs": [],
   "source": [
    "import pandas as pd\n",
    "import numpy as np\n",
    "import tensorflow as tf\n",
    "from tensorflow import keras\n",
    "from sklearn.model_selection import train_test_split\n",
    "from sklearn.preprocessing import LabelEncoder, StandardScaler"
   ]
  },
  {
   "cell_type": "code",
   "execution_count": 2,
   "id": "4329aef8-9c77-4bf2-a417-f32c2e0070b6",
   "metadata": {},
   "outputs": [],
   "source": [
    "import matplotlib.pyplot as plt"
   ]
  },
  {
   "cell_type": "markdown",
   "id": "ef1eb017-f141-439f-9727-cff990f22929",
   "metadata": {},
   "source": [
    "## Data Cleaning"
   ]
  },
  {
   "cell_type": "code",
   "execution_count": 3,
   "id": "34271b7a-d1dd-4150-bd0b-e2c50f6122cc",
   "metadata": {},
   "outputs": [],
   "source": [
    "#load the data\n",
    "df=pd.read_csv('intrusion.csv')"
   ]
  },
  {
   "cell_type": "code",
   "execution_count": 4,
   "id": "8f284eef-8d0e-4b45-b3a8-ed086ea333e1",
   "metadata": {},
   "outputs": [
    {
     "data": {
      "text/plain": [
       "<bound method DataFrame.info of          Unnamed: 0  Destination Port  Flow Duration  Total Fwd Packets  \\\n",
       "0                 0                80      116049762                 16   \n",
       "1                 1                53          87143                  4   \n",
       "2                 2                80       85739775                  6   \n",
       "3                 3                80      100765857                  6   \n",
       "4                 4                80       84183749                  8   \n",
       "...             ...               ...            ...                ...   \n",
       "1057641     1057641                53          60644                  1   \n",
       "1057642     1057642                80          16623                  3   \n",
       "1057643     1057643              2401             49                  1   \n",
       "1057644     1057644                80       99248317                 10   \n",
       "1057645     1057645              4176              2                  1   \n",
       "\n",
       "         Total Backward Packets  Total Length of Fwd Packets  \\\n",
       "0                            14                          446   \n",
       "1                             2                          140   \n",
       "2                             5                          379   \n",
       "3                             8                          636   \n",
       "4                             4                           56   \n",
       "...                         ...                          ...   \n",
       "1057641                       1                           48   \n",
       "1057642                       6                          318   \n",
       "1057643                       1                            2   \n",
       "1057644                       5                         1083   \n",
       "1057645                       2                            0   \n",
       "\n",
       "         Total Length of Bwd Packets  Fwd Packet Length Max  \\\n",
       "0                                979                    446   \n",
       "1                                358                     35   \n",
       "2                              11595                    379   \n",
       "3                              11595                    312   \n",
       "4                              11601                     20   \n",
       "...                              ...                    ...   \n",
       "1057641                           88                     48   \n",
       "1057642                        11595                    318   \n",
       "1057643                            6                      2   \n",
       "1057644                        11595                    361   \n",
       "1057645                            0                      0   \n",
       "\n",
       "         Fwd Packet Length Min  Fwd Packet Length Mean  ...  \\\n",
       "0                            0               27.875000  ...   \n",
       "1                           35               35.000000  ...   \n",
       "2                            0               63.166667  ...   \n",
       "3                            0              106.000000  ...   \n",
       "4                            0                7.000000  ...   \n",
       "...                        ...                     ...  ...   \n",
       "1057641                     48               48.000000  ...   \n",
       "1057642                      0              106.000000  ...   \n",
       "1057643                      2                2.000000  ...   \n",
       "1057644                      0              108.300000  ...   \n",
       "1057645                      0                0.000000  ...   \n",
       "\n",
       "         min_seg_size_forward  Active Mean  Active Std  Active Max  \\\n",
       "0                          32  34654.90909  10434.5796       66077   \n",
       "1                          20      0.00000      0.0000           0   \n",
       "2                          32    718.00000      0.0000         718   \n",
       "3                          20  11983.00000      0.0000       11983   \n",
       "4                          20   2006.00000      0.0000        2006   \n",
       "...                       ...          ...         ...         ...   \n",
       "1057641                    32      0.00000      0.0000           0   \n",
       "1057642                    32      0.00000      0.0000           0   \n",
       "1057643                    24      0.00000      0.0000           0   \n",
       "1057644                    32   1003.00000      0.0000        1003   \n",
       "1057645                    20      0.00000      0.0000           0   \n",
       "\n",
       "         Active Min    Idle Mean      Idle Std   Idle Max   Idle Min     Label  \n",
       "0             31187   10000000.0  6.051734e+03   10000000    9996401    BENIGN  \n",
       "1                 0          0.0  0.000000e+00          0          0    BENIGN  \n",
       "2               718   85600000.0  0.000000e+00   85600000   85600000  DoS Hulk  \n",
       "3             11983  100000000.0  0.000000e+00  100000000  100000000  DoS Hulk  \n",
       "4              2006   42100000.0  4.890000e+07   76600000    7464828      DDoS  \n",
       "...             ...          ...           ...        ...        ...       ...  \n",
       "1057641           0          0.0  0.000000e+00          0          0    BENIGN  \n",
       "1057642           0          0.0  0.000000e+00          0          0  DoS Hulk  \n",
       "1057643           0          0.0  0.000000e+00          0          0  PortScan  \n",
       "1057644        1003   98700000.0  0.000000e+00   98700000   98700000  DoS Hulk  \n",
       "1057645           0          0.0  0.000000e+00          0          0    BENIGN  \n",
       "\n",
       "[1057646 rows x 80 columns]>"
      ]
     },
     "execution_count": 4,
     "metadata": {},
     "output_type": "execute_result"
    }
   ],
   "source": [
    "df.info"
   ]
  },
  {
   "cell_type": "code",
   "execution_count": 5,
   "id": "4e21d9f4-ef15-4d53-9fdc-3ac3e9a3964c",
   "metadata": {},
   "outputs": [],
   "source": [
    "#drop unnecessary columns\n",
    "new=df[[\"Destination Port\",\"Flow Duration\",\"Total Fwd Packets\",\"Total Backward Packets\" ,\"Fwd Packet Length Std\",\"Bwd Packet Length Std\",\"Flow Bytes/s\" ,\"Flow Packets/s\",\"Flow IAT Mean\" ,\"Fwd IAT Std\" ,\"Bwd IAT Std\" ,\"Fwd PSH Flags\" ,\"Bwd PSH Flags\" ,\"Fwd URG Flags\" ,\"Bwd URG Flags\" ,\"Fwd Packets/s\" ,\"Bwd Packets/s\" ,\"Packet Length Std\" ,\"FIN Flag Count\" ,\"SYN Flag Count\" ,\"RST Flag Count\" ,\"PSH Flag Count\" ,\"ACK Flag Count\" ,\"URG Flag Count\" ,\"CWE Flag Count\" ,\"ECE Flag Count\",\"Down/Up Ratio\" ,\"Average Packet Size\" ,\"Avg Fwd Segment Size\" ,\"Avg Bwd Segment Size\" ,\"Fwd Avg Bulk Rate\" ,\"Bwd Avg Bulk Rate\",\"Subflow Fwd Packets\" ,\"Subflow Fwd Bytes\" ,\"Subflow Bwd Packets\" ,\"Subflow Bwd Bytes\" ,\"Init_Win_bytes_forward\"\n",
    "             ,\"Init_Win_bytes_backward\" ,\"act_data_pkt_fwd\" ,\"min_seg_size_forward\" ,\"Active Std\",\"Idle Std\",\"Label\"]]"
   ]
  },
  {
   "cell_type": "code",
   "execution_count": 6,
   "id": "fe803b70-2d16-44d3-abfe-c67935d2c94b",
   "metadata": {},
   "outputs": [
    {
     "data": {
      "text/plain": [
       "(1057646, 43)"
      ]
     },
     "execution_count": 6,
     "metadata": {},
     "output_type": "execute_result"
    }
   ],
   "source": [
    "new.shape"
   ]
  },
  {
   "cell_type": "code",
   "execution_count": 7,
   "id": "7780d1bd-b68f-4c26-a86f-e0cb803f01fe",
   "metadata": {},
   "outputs": [
    {
     "data": {
      "text/plain": [
       "Destination Port              0\n",
       "Flow Duration                 0\n",
       "Total Fwd Packets             0\n",
       "Total Backward Packets        0\n",
       "Fwd Packet Length Std         0\n",
       "Bwd Packet Length Std         0\n",
       "Flow Bytes/s               1059\n",
       "Flow Packets/s                0\n",
       "Flow IAT Mean                 0\n",
       "Fwd IAT Std                   0\n",
       "Bwd IAT Std                   0\n",
       "Fwd PSH Flags                 0\n",
       "Bwd PSH Flags                 0\n",
       "Fwd URG Flags                 0\n",
       "Bwd URG Flags                 0\n",
       "Fwd Packets/s                 0\n",
       "Bwd Packets/s                 0\n",
       "Packet Length Std             0\n",
       "FIN Flag Count                0\n",
       "SYN Flag Count                0\n",
       "RST Flag Count                0\n",
       "PSH Flag Count                0\n",
       "ACK Flag Count                0\n",
       "URG Flag Count                0\n",
       "CWE Flag Count                0\n",
       "ECE Flag Count                0\n",
       "Down/Up Ratio                 0\n",
       "Average Packet Size           0\n",
       "Avg Fwd Segment Size          0\n",
       "Avg Bwd Segment Size          0\n",
       "Fwd Avg Bulk Rate             0\n",
       "Bwd Avg Bulk Rate             0\n",
       "Subflow Fwd Packets           0\n",
       "Subflow Fwd Bytes             0\n",
       "Subflow Bwd Packets           0\n",
       "Subflow Bwd Bytes             0\n",
       "Init_Win_bytes_forward        0\n",
       "Init_Win_bytes_backward       0\n",
       "act_data_pkt_fwd              0\n",
       "min_seg_size_forward          0\n",
       "Active Std                    0\n",
       "Idle Std                      0\n",
       "Label                         0\n",
       "dtype: int64"
      ]
     },
     "execution_count": 7,
     "metadata": {},
     "output_type": "execute_result"
    }
   ],
   "source": [
    "new.isnull().sum()"
   ]
  },
  {
   "cell_type": "code",
   "execution_count": 8,
   "id": "ea3720c1-54fe-4ff6-ab2d-43c8ee7fbf07",
   "metadata": {},
   "outputs": [
    {
     "name": "stderr",
     "output_type": "stream",
     "text": [
      "<ipython-input-8-00a98c03372c>:1: SettingWithCopyWarning: \n",
      "A value is trying to be set on a copy of a slice from a DataFrame\n",
      "\n",
      "See the caveats in the documentation: https://pandas.pydata.org/pandas-docs/stable/user_guide/indexing.html#returning-a-view-versus-a-copy\n",
      "  new.dropna(inplace=True)\n"
     ]
    }
   ],
   "source": [
    "new.dropna(inplace=True)"
   ]
  },
  {
   "cell_type": "code",
   "execution_count": 9,
   "id": "9fe57c14-0bd0-49dc-a3c6-fae5bcda8e02",
   "metadata": {},
   "outputs": [
    {
     "data": {
      "text/plain": [
       "(1056587, 43)"
      ]
     },
     "execution_count": 9,
     "metadata": {},
     "output_type": "execute_result"
    }
   ],
   "source": [
    "new.shape"
   ]
  },
  {
   "cell_type": "code",
   "execution_count": 10,
   "id": "e8a5b076-07ed-4e65-b5b7-c526e42f7f38",
   "metadata": {},
   "outputs": [
    {
     "name": "stderr",
     "output_type": "stream",
     "text": [
      "<ipython-input-10-896cc93336df>:1: SettingWithCopyWarning: \n",
      "A value is trying to be set on a copy of a slice from a DataFrame\n",
      "\n",
      "See the caveats in the documentation: https://pandas.pydata.org/pandas-docs/stable/user_guide/indexing.html#returning-a-view-versus-a-copy\n",
      "  new.drop_duplicates(inplace=True)\n"
     ]
    }
   ],
   "source": [
    "new.drop_duplicates(inplace=True)"
   ]
  },
  {
   "cell_type": "code",
   "execution_count": 11,
   "id": "b1e44b29-107a-483b-ace8-99e59af4853a",
   "metadata": {},
   "outputs": [
    {
     "data": {
      "text/plain": [
       "(871226, 43)"
      ]
     },
     "execution_count": 11,
     "metadata": {},
     "output_type": "execute_result"
    }
   ],
   "source": [
    "new.shape"
   ]
  },
  {
   "cell_type": "code",
   "execution_count": 12,
   "id": "ff4aff1d-5e09-44c3-94cb-fe195fb3940e",
   "metadata": {},
   "outputs": [
    {
     "name": "stderr",
     "output_type": "stream",
     "text": [
      "/shared/centos7/anaconda3/2021.05/lib/python3.8/site-packages/pandas/core/frame.py:4308: SettingWithCopyWarning: \n",
      "A value is trying to be set on a copy of a slice from a DataFrame\n",
      "\n",
      "See the caveats in the documentation: https://pandas.pydata.org/pandas-docs/stable/user_guide/indexing.html#returning-a-view-versus-a-copy\n",
      "  return super().drop(\n"
     ]
    }
   ],
   "source": [
    "new.drop(columns=['Flow Bytes/s', 'Flow Packets/s'], inplace=True)"
   ]
  },
  {
   "cell_type": "code",
   "execution_count": 13,
   "id": "198997fd-f65f-419a-a912-80e4e44395ca",
   "metadata": {},
   "outputs": [
    {
     "name": "stdout",
     "output_type": "stream",
     "text": [
      "<class 'pandas.core.frame.DataFrame'>\n",
      "Int64Index: 871226 entries, 0 to 1057645\n",
      "Data columns (total 41 columns):\n",
      " #   Column                   Non-Null Count   Dtype  \n",
      "---  ------                   --------------   -----  \n",
      " 0   Destination Port         871226 non-null  int64  \n",
      " 1   Flow Duration            871226 non-null  int64  \n",
      " 2   Total Fwd Packets        871226 non-null  int64  \n",
      " 3   Total Backward Packets   871226 non-null  int64  \n",
      " 4   Fwd Packet Length Std    871226 non-null  float64\n",
      " 5   Bwd Packet Length Std    871226 non-null  float64\n",
      " 6   Flow IAT Mean            871226 non-null  float64\n",
      " 7   Fwd IAT Std              871226 non-null  float64\n",
      " 8   Bwd IAT Std              871226 non-null  float64\n",
      " 9   Fwd PSH Flags            871226 non-null  int64  \n",
      " 10  Bwd PSH Flags            871226 non-null  int64  \n",
      " 11  Fwd URG Flags            871226 non-null  int64  \n",
      " 12  Bwd URG Flags            871226 non-null  int64  \n",
      " 13  Fwd Packets/s            871226 non-null  float64\n",
      " 14  Bwd Packets/s            871226 non-null  float64\n",
      " 15  Packet Length Std        871226 non-null  float64\n",
      " 16  FIN Flag Count           871226 non-null  int64  \n",
      " 17  SYN Flag Count           871226 non-null  int64  \n",
      " 18  RST Flag Count           871226 non-null  int64  \n",
      " 19  PSH Flag Count           871226 non-null  int64  \n",
      " 20  ACK Flag Count           871226 non-null  int64  \n",
      " 21  URG Flag Count           871226 non-null  int64  \n",
      " 22  CWE Flag Count           871226 non-null  int64  \n",
      " 23  ECE Flag Count           871226 non-null  int64  \n",
      " 24  Down/Up Ratio            871226 non-null  int64  \n",
      " 25  Average Packet Size      871226 non-null  float64\n",
      " 26  Avg Fwd Segment Size     871226 non-null  float64\n",
      " 27  Avg Bwd Segment Size     871226 non-null  float64\n",
      " 28  Fwd Avg Bulk Rate        871226 non-null  int64  \n",
      " 29  Bwd Avg Bulk Rate        871226 non-null  int64  \n",
      " 30  Subflow Fwd Packets      871226 non-null  int64  \n",
      " 31  Subflow Fwd Bytes        871226 non-null  int64  \n",
      " 32  Subflow Bwd Packets      871226 non-null  int64  \n",
      " 33  Subflow Bwd Bytes        871226 non-null  int64  \n",
      " 34  Init_Win_bytes_forward   871226 non-null  int64  \n",
      " 35  Init_Win_bytes_backward  871226 non-null  int64  \n",
      " 36  act_data_pkt_fwd         871226 non-null  int64  \n",
      " 37  min_seg_size_forward     871226 non-null  int64  \n",
      " 38  Active Std               871226 non-null  float64\n",
      " 39  Idle Std                 871226 non-null  float64\n",
      " 40  Label                    871226 non-null  object \n",
      "dtypes: float64(13), int64(27), object(1)\n",
      "memory usage: 279.2+ MB\n"
     ]
    }
   ],
   "source": [
    "new.info()"
   ]
  },
  {
   "cell_type": "code",
   "execution_count": 14,
   "id": "ed380a2d-8baa-4f5d-a986-eaeec5926d95",
   "metadata": {},
   "outputs": [
    {
     "data": {
      "text/html": [
       "<div>\n",
       "<style scoped>\n",
       "    .dataframe tbody tr th:only-of-type {\n",
       "        vertical-align: middle;\n",
       "    }\n",
       "\n",
       "    .dataframe tbody tr th {\n",
       "        vertical-align: top;\n",
       "    }\n",
       "\n",
       "    .dataframe thead th {\n",
       "        text-align: right;\n",
       "    }\n",
       "</style>\n",
       "<table border=\"1\" class=\"dataframe\">\n",
       "  <thead>\n",
       "    <tr style=\"text-align: right;\">\n",
       "      <th></th>\n",
       "      <th>Destination Port</th>\n",
       "      <th>Flow Duration</th>\n",
       "      <th>Total Fwd Packets</th>\n",
       "      <th>Total Backward Packets</th>\n",
       "      <th>Fwd Packet Length Std</th>\n",
       "      <th>Bwd Packet Length Std</th>\n",
       "      <th>Flow IAT Mean</th>\n",
       "      <th>Fwd IAT Std</th>\n",
       "      <th>Bwd IAT Std</th>\n",
       "      <th>Fwd PSH Flags</th>\n",
       "      <th>...</th>\n",
       "      <th>Subflow Fwd Bytes</th>\n",
       "      <th>Subflow Bwd Packets</th>\n",
       "      <th>Subflow Bwd Bytes</th>\n",
       "      <th>Init_Win_bytes_forward</th>\n",
       "      <th>Init_Win_bytes_backward</th>\n",
       "      <th>act_data_pkt_fwd</th>\n",
       "      <th>min_seg_size_forward</th>\n",
       "      <th>Active Std</th>\n",
       "      <th>Idle Std</th>\n",
       "      <th>Label</th>\n",
       "    </tr>\n",
       "  </thead>\n",
       "  <tbody>\n",
       "    <tr>\n",
       "      <th>0</th>\n",
       "      <td>80</td>\n",
       "      <td>116049762</td>\n",
       "      <td>16</td>\n",
       "      <td>14</td>\n",
       "      <td>111.500000</td>\n",
       "      <td>261.648756</td>\n",
       "      <td>4001715.931</td>\n",
       "      <td>4.157941e+06</td>\n",
       "      <td>3.766086e+06</td>\n",
       "      <td>0</td>\n",
       "      <td>...</td>\n",
       "      <td>446</td>\n",
       "      <td>14</td>\n",
       "      <td>979</td>\n",
       "      <td>29200</td>\n",
       "      <td>118</td>\n",
       "      <td>1</td>\n",
       "      <td>32</td>\n",
       "      <td>10434.5796</td>\n",
       "      <td>6.051734e+03</td>\n",
       "      <td>BENIGN</td>\n",
       "    </tr>\n",
       "    <tr>\n",
       "      <th>1</th>\n",
       "      <td>53</td>\n",
       "      <td>87143</td>\n",
       "      <td>4</td>\n",
       "      <td>2</td>\n",
       "      <td>0.000000</td>\n",
       "      <td>0.000000</td>\n",
       "      <td>17428.600</td>\n",
       "      <td>1.780433e+04</td>\n",
       "      <td>0.000000e+00</td>\n",
       "      <td>0</td>\n",
       "      <td>...</td>\n",
       "      <td>140</td>\n",
       "      <td>2</td>\n",
       "      <td>358</td>\n",
       "      <td>-1</td>\n",
       "      <td>-1</td>\n",
       "      <td>3</td>\n",
       "      <td>20</td>\n",
       "      <td>0.0000</td>\n",
       "      <td>0.000000e+00</td>\n",
       "      <td>BENIGN</td>\n",
       "    </tr>\n",
       "    <tr>\n",
       "      <th>2</th>\n",
       "      <td>80</td>\n",
       "      <td>85739775</td>\n",
       "      <td>6</td>\n",
       "      <td>5</td>\n",
       "      <td>154.726102</td>\n",
       "      <td>3331.638186</td>\n",
       "      <td>8573977.500</td>\n",
       "      <td>3.830000e+07</td>\n",
       "      <td>6.106404e+04</td>\n",
       "      <td>0</td>\n",
       "      <td>...</td>\n",
       "      <td>379</td>\n",
       "      <td>5</td>\n",
       "      <td>11595</td>\n",
       "      <td>274</td>\n",
       "      <td>235</td>\n",
       "      <td>1</td>\n",
       "      <td>32</td>\n",
       "      <td>0.0000</td>\n",
       "      <td>0.000000e+00</td>\n",
       "      <td>DoS Hulk</td>\n",
       "    </tr>\n",
       "    <tr>\n",
       "      <th>3</th>\n",
       "      <td>80</td>\n",
       "      <td>100765857</td>\n",
       "      <td>6</td>\n",
       "      <td>8</td>\n",
       "      <td>159.589473</td>\n",
       "      <td>1729.380148</td>\n",
       "      <td>7751219.769</td>\n",
       "      <td>4.490000e+07</td>\n",
       "      <td>3.790000e+07</td>\n",
       "      <td>0</td>\n",
       "      <td>...</td>\n",
       "      <td>636</td>\n",
       "      <td>8</td>\n",
       "      <td>11595</td>\n",
       "      <td>0</td>\n",
       "      <td>235</td>\n",
       "      <td>3</td>\n",
       "      <td>20</td>\n",
       "      <td>0.0000</td>\n",
       "      <td>0.000000e+00</td>\n",
       "      <td>DoS Hulk</td>\n",
       "    </tr>\n",
       "    <tr>\n",
       "      <th>4</th>\n",
       "      <td>80</td>\n",
       "      <td>84183749</td>\n",
       "      <td>8</td>\n",
       "      <td>4</td>\n",
       "      <td>5.656854</td>\n",
       "      <td>3540.002860</td>\n",
       "      <td>7653068.091</td>\n",
       "      <td>2.860000e+07</td>\n",
       "      <td>2.009570e+04</td>\n",
       "      <td>0</td>\n",
       "      <td>...</td>\n",
       "      <td>56</td>\n",
       "      <td>4</td>\n",
       "      <td>11601</td>\n",
       "      <td>256</td>\n",
       "      <td>229</td>\n",
       "      <td>6</td>\n",
       "      <td>20</td>\n",
       "      <td>0.0000</td>\n",
       "      <td>4.890000e+07</td>\n",
       "      <td>DDoS</td>\n",
       "    </tr>\n",
       "  </tbody>\n",
       "</table>\n",
       "<p>5 rows × 41 columns</p>\n",
       "</div>"
      ],
      "text/plain": [
       "   Destination Port  Flow Duration  Total Fwd Packets  Total Backward Packets  \\\n",
       "0                80      116049762                 16                      14   \n",
       "1                53          87143                  4                       2   \n",
       "2                80       85739775                  6                       5   \n",
       "3                80      100765857                  6                       8   \n",
       "4                80       84183749                  8                       4   \n",
       "\n",
       "   Fwd Packet Length Std  Bwd Packet Length Std  Flow IAT Mean   Fwd IAT Std  \\\n",
       "0             111.500000             261.648756    4001715.931  4.157941e+06   \n",
       "1               0.000000               0.000000      17428.600  1.780433e+04   \n",
       "2             154.726102            3331.638186    8573977.500  3.830000e+07   \n",
       "3             159.589473            1729.380148    7751219.769  4.490000e+07   \n",
       "4               5.656854            3540.002860    7653068.091  2.860000e+07   \n",
       "\n",
       "    Bwd IAT Std  Fwd PSH Flags  ...  Subflow Fwd Bytes  Subflow Bwd Packets  \\\n",
       "0  3.766086e+06              0  ...                446                   14   \n",
       "1  0.000000e+00              0  ...                140                    2   \n",
       "2  6.106404e+04              0  ...                379                    5   \n",
       "3  3.790000e+07              0  ...                636                    8   \n",
       "4  2.009570e+04              0  ...                 56                    4   \n",
       "\n",
       "   Subflow Bwd Bytes  Init_Win_bytes_forward  Init_Win_bytes_backward  \\\n",
       "0                979                   29200                      118   \n",
       "1                358                      -1                       -1   \n",
       "2              11595                     274                      235   \n",
       "3              11595                       0                      235   \n",
       "4              11601                     256                      229   \n",
       "\n",
       "   act_data_pkt_fwd  min_seg_size_forward  Active Std      Idle Std     Label  \n",
       "0                 1                    32  10434.5796  6.051734e+03    BENIGN  \n",
       "1                 3                    20      0.0000  0.000000e+00    BENIGN  \n",
       "2                 1                    32      0.0000  0.000000e+00  DoS Hulk  \n",
       "3                 3                    20      0.0000  0.000000e+00  DoS Hulk  \n",
       "4                 6                    20      0.0000  4.890000e+07      DDoS  \n",
       "\n",
       "[5 rows x 41 columns]"
      ]
     },
     "execution_count": 14,
     "metadata": {},
     "output_type": "execute_result"
    }
   ],
   "source": [
    "new.head(5)"
   ]
  },
  {
   "cell_type": "code",
   "execution_count": 44,
   "id": "93b33e42-4b4b-4e9f-a2c5-8c9bddd9e912",
   "metadata": {},
   "outputs": [],
   "source": [
    "new.to_csv('attack.csv')"
   ]
  },
  {
   "cell_type": "code",
   "execution_count": 15,
   "id": "bcba0e5b-7e72-4733-8da4-28b11b5116ca",
   "metadata": {},
   "outputs": [],
   "source": [
    "# Separate features and target\n",
    "X = new.iloc[:, :-1]\n",
    "y = new.iloc[:, -1]\n",
    "\n",
    "# Convert labels to numerical values\n",
    "le = LabelEncoder()\n",
    "y = le.fit_transform(y)"
   ]
  },
  {
   "cell_type": "code",
   "execution_count": 16,
   "id": "4b19eef6-4920-421f-80a0-827c60d04361",
   "metadata": {},
   "outputs": [],
   "source": [
    "# Split the dataset into training and testing sets\n",
    "X_train, X_test, y_train, y_test = train_test_split(X, y, test_size=0.2, random_state=42)\n"
   ]
  },
  {
   "cell_type": "code",
   "execution_count": 17,
   "id": "de0a771c-aaab-4005-b567-fe2e081c3e64",
   "metadata": {},
   "outputs": [],
   "source": [
    "# Scale the data\n",
    "scaler = StandardScaler()\n",
    "X_train = scaler.fit_transform(X_train)\n",
    "X_test = scaler.transform(X_test)"
   ]
  },
  {
   "cell_type": "markdown",
   "id": "0e7f6ba4-51da-415a-a42a-81de739ac681",
   "metadata": {},
   "source": [
    "## Deep Neural Network"
   ]
  },
  {
   "cell_type": "code",
   "execution_count": 18,
   "id": "7feb0625-5466-40cb-bd9d-8a5c83188349",
   "metadata": {},
   "outputs": [],
   "source": [
    "# Build the model\n",
    "model = keras.Sequential([\n",
    "    keras.layers.Dense(64, activation='relu', input_shape=(X_train.shape[1],)),\n",
    "    keras.layers.Dropout(0.5),\n",
    "    keras.layers.Dense(32, activation='relu'),\n",
    "    keras.layers.Dropout(0.5),\n",
    "    keras.layers.Dense(len(np.unique(y)), activation='softmax')\n",
    "])"
   ]
  },
  {
   "cell_type": "code",
   "execution_count": 19,
   "id": "19890b32-d611-4d90-b196-dc51a101ffb9",
   "metadata": {},
   "outputs": [],
   "source": [
    "# Compile the model\n",
    "model.compile(optimizer='adam', loss='sparse_categorical_crossentropy', metrics=['accuracy'])\n"
   ]
  },
  {
   "cell_type": "code",
   "execution_count": 22,
   "id": "d944bad8-2b79-49eb-8d7b-a2cc4621472e",
   "metadata": {},
   "outputs": [
    {
     "name": "stdout",
     "output_type": "stream",
     "text": [
      "Model: \"sequential\"\n",
      "_________________________________________________________________\n",
      " Layer (type)                Output Shape              Param #   \n",
      "=================================================================\n",
      " dense (Dense)               (None, 64)                2624      \n",
      "                                                                 \n",
      " dropout (Dropout)           (None, 64)                0         \n",
      "                                                                 \n",
      " dense_1 (Dense)             (None, 32)                2080      \n",
      "                                                                 \n",
      " dropout_1 (Dropout)         (None, 32)                0         \n",
      "                                                                 \n",
      " dense_2 (Dense)             (None, 15)                495       \n",
      "                                                                 \n",
      "=================================================================\n",
      "Total params: 5,199\n",
      "Trainable params: 5,199\n",
      "Non-trainable params: 0\n",
      "_________________________________________________________________\n"
     ]
    }
   ],
   "source": [
    "model.summary()"
   ]
  },
  {
   "cell_type": "code",
   "execution_count": 20,
   "id": "db6a92b0-ab25-4f57-9207-2aa8b1861add",
   "metadata": {},
   "outputs": [
    {
     "name": "stdout",
     "output_type": "stream",
     "text": [
      "Epoch 1/10\n",
      "17425/17425 [==============================] - 29s 2ms/step - loss: 0.2897 - accuracy: 0.9151 - val_loss: 0.1291 - val_accuracy: 0.9571\n",
      "Epoch 2/10\n",
      "17425/17425 [==============================] - 28s 2ms/step - loss: 0.1877 - accuracy: 0.9415 - val_loss: 0.1112 - val_accuracy: 0.9697\n",
      "Epoch 3/10\n",
      "17425/17425 [==============================] - 28s 2ms/step - loss: 0.1738 - accuracy: 0.9470 - val_loss: 0.1010 - val_accuracy: 0.9680\n",
      "Epoch 4/10\n",
      "17425/17425 [==============================] - 29s 2ms/step - loss: 0.1671 - accuracy: 0.9486 - val_loss: 0.1032 - val_accuracy: 0.9673\n",
      "Epoch 5/10\n",
      "17425/17425 [==============================] - 29s 2ms/step - loss: 0.1690 - accuracy: 0.9500 - val_loss: 0.1023 - val_accuracy: 0.9688\n",
      "Epoch 6/10\n",
      "17425/17425 [==============================] - 29s 2ms/step - loss: 0.1633 - accuracy: 0.9506 - val_loss: 0.0994 - val_accuracy: 0.9713\n",
      "Epoch 7/10\n",
      "17425/17425 [==============================] - 28s 2ms/step - loss: 0.1635 - accuracy: 0.9518 - val_loss: 0.0916 - val_accuracy: 0.9732\n",
      "Epoch 8/10\n",
      "17425/17425 [==============================] - 27s 2ms/step - loss: 0.1616 - accuracy: 0.9525 - val_loss: 0.0959 - val_accuracy: 0.9684\n",
      "Epoch 9/10\n",
      "17425/17425 [==============================] - 28s 2ms/step - loss: 0.1627 - accuracy: 0.9519 - val_loss: 0.0947 - val_accuracy: 0.9689\n",
      "Epoch 10/10\n",
      "17425/17425 [==============================] - 28s 2ms/step - loss: 0.1581 - accuracy: 0.9529 - val_loss: 0.0933 - val_accuracy: 0.9694\n"
     ]
    }
   ],
   "source": [
    "# Train the model\n",
    "history = model.fit(X_train, y_train, epochs=10, batch_size=32, validation_split=0.2)"
   ]
  },
  {
   "cell_type": "code",
   "execution_count": 22,
   "id": "aa5fa802-a6f3-4f04-ba98-c7161cf8c784",
   "metadata": {},
   "outputs": [
    {
     "data": {
      "image/png": "[encoded data removed]",
      "text/plain": [
       "<Figure size 432x288 with 1 Axes>"
      ]
     },
     "metadata": {
      "needs_background": "light"
     },
     "output_type": "display_data"
    }
   ],
   "source": [
    "# Plot training & validation accuracy values\n",
    "plt.plot(history.history['accuracy'])\n",
    "plt.plot(history.history['val_accuracy'])\n",
    "plt.title('Model accuracy')\n",
    "plt.ylabel('Accuracy')\n",
    "plt.xlabel('Epoch')\n",
    "plt.legend(['Train', 'Test'], loc='upper left')\n",
    "plt.show()\n"
   ]
  },
  {
   "cell_type": "code",
   "execution_count": 23,
   "id": "dc932122-59bc-4c9a-a104-7239fef19808",
   "metadata": {},
   "outputs": [
    {
     "data": {
      "image/png": "[encoded data removed]",
      "text/plain": [
       "<Figure size 432x288 with 1 Axes>"
      ]
     },
     "metadata": {
      "needs_background": "light"
     },
     "output_type": "display_data"
    }
   ],
   "source": [
    "# Plot training & validation loss values\n",
    "plt.plot(history.history['loss'])\n",
    "plt.plot(history.history['val_loss'])\n",
    "plt.title('Model loss')\n",
    "plt.ylabel('Loss')\n",
    "plt.xlabel('Epoch')\n",
    "plt.legend(['Train', 'Test'], loc='upper left')\n",
    "plt.show()"
   ]
  },
  {
   "cell_type": "code",
   "execution_count": 24,
   "id": "0f9de902-2ed3-4805-bbb1-44614b2022dc",
   "metadata": {},
   "outputs": [
    {
     "name": "stdout",
     "output_type": "stream",
     "text": [
      "5446/5446 [==============================] - 6s 1ms/step - loss: 0.0940 - accuracy: 0.9695\n",
      "Test accuracy: 0.9695143699645996\n"
     ]
    }
   ],
   "source": [
    "# Evaluate the model on the testing set\n",
    "test_loss, test_acc = model.evaluate(X_test, y_test)\n",
    "\n",
    "print('Test accuracy:', test_acc)"
   ]
  },
  {
   "cell_type": "markdown",
   "id": "004c3205-3767-4461-be4f-afdb76d4c98e",
   "metadata": {},
   "source": [
    "## Using Autoencoder to reduce dimensionality of the data"
   ]
  },
  {
   "cell_type": "code",
   "execution_count": 31,
   "id": "a167a3b2-8a49-4859-a6ca-02581ba3f939",
   "metadata": {},
   "outputs": [],
   "source": [
    "from keras.utils import to_categorical\n",
    "from keras.models import Model\n",
    "from keras.layers import Input, Dense"
   ]
  },
  {
   "cell_type": "code",
   "execution_count": 27,
   "id": "76c0b836-7dd3-4ba2-88b7-4e551a52cb8f",
   "metadata": {},
   "outputs": [],
   "source": [
    "# Split the data into X and y\n",
    "X = new.iloc[:, :-1]\n",
    "y = new.iloc[:, -1]\n",
    "\n",
    "# Convert y to one-hot encoding\n",
    "encoder = LabelEncoder()\n",
    "encoder.fit(y)\n",
    "y_encoded = encoder.transform(y)\n",
    "y_onehot = to_categorical(y_encoded)"
   ]
  },
  {
   "cell_type": "code",
   "execution_count": 28,
   "id": "c327b465-d6ea-47cc-a303-bc26d2d76fc4",
   "metadata": {},
   "outputs": [],
   "source": [
    "# Split the data into training and testing sets\n",
    "X_train, X_test, y_train, y_test = train_test_split(X, y_onehot, test_size=0.2)\n"
   ]
  },
  {
   "cell_type": "code",
   "execution_count": 29,
   "id": "0b81ebc6-39fc-4b45-b096-0b5b9cebc991",
   "metadata": {},
   "outputs": [],
   "source": [
    "# Scale the data\n",
    "scaler = StandardScaler()\n",
    "X_train = scaler.fit_transform(X_train)\n",
    "X_test = scaler.transform(X_test)"
   ]
  },
  {
   "cell_type": "code",
   "execution_count": 32,
   "id": "7d0c2d29-0129-425d-8f9a-00985b2df526",
   "metadata": {},
   "outputs": [],
   "source": [
    "# Define the autoencoder model\n",
    "input_dim = X_train.shape[1]\n",
    "encoding_dim = 20\n",
    "\n",
    "input_layer = Input(shape=(input_dim, ))\n",
    "encoder_layer = Dense(encoding_dim, activation='relu')(input_layer)\n",
    "decoder_layer = Dense(input_dim, activation='sigmoid')(encoder_layer)\n",
    "\n",
    "autoencoder = Model(inputs=input_layer, outputs=decoder_layer)\n",
    "\n",
    "autoencoder.compile(optimizer='adam', loss='binary_crossentropy')"
   ]
  },
  {
   "cell_type": "code",
   "execution_count": 33,
   "id": "e9bb5a87-824e-438e-9717-863e9d61d97d",
   "metadata": {},
   "outputs": [
    {
     "name": "stdout",
     "output_type": "stream",
     "text": [
      "Epoch 1/50\n",
      "21781/21781 [==============================] - 31s 1ms/step - loss: -2314.1216 - val_loss: -6539.2388\n",
      "Epoch 2/50\n",
      "21781/21781 [==============================] - 31s 1ms/step - loss: -14303.7275 - val_loss: -23874.0547\n",
      "Epoch 3/50\n",
      "21781/21781 [==============================] - 31s 1ms/step - loss: -36851.6367 - val_loss: -51691.6250\n",
      "Epoch 4/50\n",
      "21781/21781 [==============================] - 31s 1ms/step - loss: -69827.3594 - val_loss: -89911.1172\n",
      "Epoch 5/50\n",
      "21781/21781 [==============================] - 31s 1ms/step - loss: -113167.0312 - val_loss: -138537.4688\n",
      "Epoch 6/50\n",
      "21781/21781 [==============================] - 31s 1ms/step - loss: -166863.0000 - val_loss: -197504.7031\n",
      "Epoch 7/50\n",
      "21781/21781 [==============================] - 31s 1ms/step - loss: -230884.6406 - val_loss: -266824.2812\n",
      "Epoch 8/50\n",
      "21781/21781 [==============================] - 31s 1ms/step - loss: -305238.7188 - val_loss: -346526.3125\n",
      "Epoch 9/50\n",
      "21781/21781 [==============================] - 31s 1ms/step - loss: -389924.4062 - val_loss: -436505.7188\n",
      "Epoch 10/50\n",
      "21781/21781 [==============================] - 31s 1ms/step - loss: -484897.6250 - val_loss: -536845.8125\n",
      "Epoch 11/50\n",
      "21781/21781 [==============================] - 31s 1ms/step - loss: -590272.6875 - val_loss: -647550.2500\n",
      "Epoch 12/50\n",
      "21781/21781 [==============================] - 31s 1ms/step - loss: -705875.0625 - val_loss: -768586.4375\n",
      "Epoch 13/50\n",
      "21781/21781 [==============================] - 31s 1ms/step - loss: -831832.8125 - val_loss: -900032.0000\n",
      "Epoch 14/50\n",
      "21781/21781 [==============================] - 31s 1ms/step - loss: -968257.1875 - val_loss: -1041850.4375\n",
      "Epoch 15/50\n",
      "21781/21781 [==============================] - 31s 1ms/step - loss: -1114981.5000 - val_loss: -1193979.1250\n",
      "Epoch 16/50\n",
      "21781/21781 [==============================] - 31s 1ms/step - loss: -1271966.8750 - val_loss: -1356511.7500\n",
      "Epoch 17/50\n",
      "21781/21781 [==============================] - 31s 1ms/step - loss: -1439406.7500 - val_loss: -1529596.2500\n",
      "Epoch 18/50\n",
      "21781/21781 [==============================] - 31s 1ms/step - loss: -1617291.1250 - val_loss: -1713051.5000\n",
      "Epoch 19/50\n",
      "21781/21781 [==============================] - 31s 1ms/step - loss: -1805573.5000 - val_loss: -1906862.5000\n",
      "Epoch 20/50\n",
      "21781/21781 [==============================] - 31s 1ms/step - loss: -2004158.3750 - val_loss: -2111105.2500\n",
      "Epoch 21/50\n",
      "21781/21781 [==============================] - 31s 1ms/step - loss: -2213301.2500 - val_loss: -2325859.7500\n",
      "Epoch 22/50\n",
      "21781/21781 [==============================] - 31s 1ms/step - loss: -2432781.0000 - val_loss: -2551064.7500\n",
      "Epoch 23/50\n",
      "21781/21781 [==============================] - 31s 1ms/step - loss: -2662762.0000 - val_loss: -2786653.2500\n",
      "Epoch 24/50\n",
      "21781/21781 [==============================] - 31s 1ms/step - loss: -2903084.5000 - val_loss: -3032758.2500\n",
      "Epoch 25/50\n",
      "21781/21781 [==============================] - 31s 1ms/step - loss: -3153854.2500 - val_loss: -3289273.0000\n",
      "Epoch 26/50\n",
      "21781/21781 [==============================] - 31s 1ms/step - loss: -3415132.2500 - val_loss: -3556351.5000\n",
      "Epoch 27/50\n",
      "21781/21781 [==============================] - 31s 1ms/step - loss: -3686811.0000 - val_loss: -3833759.2500\n",
      "Epoch 28/50\n",
      "21781/21781 [==============================] - 31s 1ms/step - loss: -3969022.2500 - val_loss: -4121894.5000\n",
      "Epoch 29/50\n",
      "21781/21781 [==============================] - 31s 1ms/step - loss: -4261743.0000 - val_loss: -4420408.5000\n",
      "Epoch 30/50\n",
      "21781/21781 [==============================] - 31s 1ms/step - loss: -4564759.5000 - val_loss: -4729327.5000\n",
      "Epoch 31/50\n",
      "21781/21781 [==============================] - 31s 1ms/step - loss: -4878532.5000 - val_loss: -5049071.0000\n",
      "Epoch 32/50\n",
      "21781/21781 [==============================] - 31s 1ms/step - loss: -5202553.0000 - val_loss: -5379063.5000\n",
      "Epoch 33/50\n",
      "21781/21781 [==============================] - 31s 1ms/step - loss: -5537232.0000 - val_loss: -5719542.0000\n",
      "Epoch 34/50\n",
      "21781/21781 [==============================] - 31s 1ms/step - loss: -5882322.5000 - val_loss: -6070668.0000\n",
      "Epoch 35/50\n",
      "21781/21781 [==============================] - 31s 1ms/step - loss: -6237795.0000 - val_loss: -6432141.5000\n",
      "Epoch 36/50\n",
      "21781/21781 [==============================] - 31s 1ms/step - loss: -6603822.0000 - val_loss: -6804455.5000\n",
      "Epoch 37/50\n",
      "21781/21781 [==============================] - 31s 1ms/step - loss: -6980519.5000 - val_loss: -7187100.5000\n",
      "Epoch 38/50\n",
      "21781/21781 [==============================] - 31s 1ms/step - loss: -7367869.0000 - val_loss: -7580395.5000\n",
      "Epoch 39/50\n",
      "21781/21781 [==============================] - 31s 1ms/step - loss: -7765487.0000 - val_loss: -7984146.5000\n",
      "Epoch 40/50\n",
      "21781/21781 [==============================] - 31s 1ms/step - loss: -8173631.5000 - val_loss: -8398576.0000\n",
      "Epoch 41/50\n",
      "21781/21781 [==============================] - 31s 1ms/step - loss: -8592217.0000 - val_loss: -8823261.0000\n",
      "Epoch 42/50\n",
      "21781/21781 [==============================] - 31s 1ms/step - loss: -9021449.0000 - val_loss: -9258729.0000\n",
      "Epoch 43/50\n",
      "21781/21781 [==============================] - 31s 1ms/step - loss: -9461242.0000 - val_loss: -9704720.0000\n",
      "Epoch 44/50\n",
      "21781/21781 [==============================] - 31s 1ms/step - loss: -9911604.0000 - val_loss: -10161285.0000\n",
      "Epoch 45/50\n",
      "21781/21781 [==============================] - 31s 1ms/step - loss: -10372752.0000 - val_loss: -10628714.0000\n",
      "Epoch 46/50\n",
      "21781/21781 [==============================] - 31s 1ms/step - loss: -10844382.0000 - val_loss: -11106817.0000\n",
      "Epoch 47/50\n",
      "21781/21781 [==============================] - 31s 1ms/step - loss: -11326121.0000 - val_loss: -11594983.0000\n",
      "Epoch 48/50\n",
      "21781/21781 [==============================] - 31s 1ms/step - loss: -11818814.0000 - val_loss: -12093711.0000\n",
      "Epoch 49/50\n",
      "21781/21781 [==============================] - 31s 1ms/step - loss: -12321431.0000 - val_loss: -12602383.0000\n",
      "Epoch 50/50\n",
      "21781/21781 [==============================] - 31s 1ms/step - loss: -12834252.0000 - val_loss: -13121828.0000\n"
     ]
    },
    {
     "data": {
      "text/plain": [
       "<keras.callbacks.History at 0x2b24e3762cd0>"
      ]
     },
     "execution_count": 33,
     "metadata": {},
     "output_type": "execute_result"
    }
   ],
   "source": [
    "# Train the autoencoder\n",
    "autoencoder.fit(X_train, X_train, epochs=50, batch_size=32, shuffle=True, validation_data=(X_test, X_test))"
   ]
  },
  {
   "cell_type": "code",
   "execution_count": 34,
   "id": "9ae44ded-b139-43ac-bf77-363e18b21def",
   "metadata": {},
   "outputs": [
    {
     "name": "stdout",
     "output_type": "stream",
     "text": [
      "21781/21781 [==============================] - 18s 844us/step\n",
      "5446/5446 [==============================] - 5s 835us/step\n"
     ]
    }
   ],
   "source": [
    "# Use the trained encoder to reduce the dimensionality of X_train and X_test\n",
    "encoder = Model(inputs=input_layer, outputs=encoder_layer)\n",
    "X_train_encoded = encoder.predict(X_train)\n",
    "X_test_encoded = encoder.predict(X_test)"
   ]
  },
  {
   "cell_type": "code",
   "execution_count": 35,
   "id": "e6f300de-cf74-4e31-9a85-a78ccce0e2a0",
   "metadata": {},
   "outputs": [],
   "source": [
    "\n",
    "# Define the deep neural network model\n",
    "input_dim = X_train_encoded.shape[1]\n",
    "output_dim = y_train.shape[1]\n"
   ]
  },
  {
   "cell_type": "code",
   "execution_count": 38,
   "id": "aeadb03a-0f90-4635-b620-ba522b0cd94c",
   "metadata": {},
   "outputs": [],
   "source": [
    "from keras.models import Sequential\n",
    "model = Sequential()\n",
    "model.add(Dense(64, input_dim=input_dim, activation='relu'))\n",
    "model.add(Dense(32, activation='relu'))\n",
    "model.add(Dense(output_dim, activation='sigmoid'))\n",
    "\n",
    "model.compile(optimizer='adam', loss='binary_crossentropy', metrics=['accuracy'])"
   ]
  },
  {
   "cell_type": "code",
   "execution_count": 39,
   "id": "d42d092c-f006-4da3-821f-44f82df1788b",
   "metadata": {},
   "outputs": [
    {
     "name": "stdout",
     "output_type": "stream",
     "text": [
      "Epoch 1/20\n",
      "21781/21781 [==============================] - 34s 2ms/step - loss: 0.9651 - accuracy: 0.8714 - val_loss: 0.0647 - val_accuracy: 0.8051\n",
      "Epoch 2/20\n",
      "21781/21781 [==============================] - 33s 2ms/step - loss: 0.0426 - accuracy: 0.8988 - val_loss: 0.0381 - val_accuracy: 0.9070\n",
      "Epoch 3/20\n",
      "21781/21781 [==============================] - 34s 2ms/step - loss: 0.0443 - accuracy: 0.8813 - val_loss: 0.0459 - val_accuracy: 0.8695\n",
      "Epoch 4/20\n",
      "21781/21781 [==============================] - 34s 2ms/step - loss: 0.0481 - accuracy: 0.8610 - val_loss: 0.0456 - val_accuracy: 0.8636\n",
      "Epoch 5/20\n",
      "21781/21781 [==============================] - 34s 2ms/step - loss: 0.0471 - accuracy: 0.8678 - val_loss: 0.0461 - val_accuracy: 0.8540\n",
      "Epoch 6/20\n",
      "21781/21781 [==============================] - 34s 2ms/step - loss: 0.0448 - accuracy: 0.8740 - val_loss: 0.0435 - val_accuracy: 0.8781\n",
      "Epoch 7/20\n",
      "21781/21781 [==============================] - 33s 2ms/step - loss: 0.0442 - accuracy: 0.8757 - val_loss: 0.0431 - val_accuracy: 0.8813\n",
      "Epoch 8/20\n",
      "21781/21781 [==============================] - 33s 2ms/step - loss: 0.0529 - accuracy: 0.8509 - val_loss: 0.0454 - val_accuracy: 0.8749\n",
      "Epoch 9/20\n",
      "21781/21781 [==============================] - 33s 2ms/step - loss: 0.0413 - accuracy: 0.9028 - val_loss: 0.0378 - val_accuracy: 0.9004\n",
      "Epoch 10/20\n",
      "21781/21781 [==============================] - 34s 2ms/step - loss: 0.0393 - accuracy: 0.9085 - val_loss: 0.0385 - val_accuracy: 0.9073\n",
      "Epoch 11/20\n",
      "21781/21781 [==============================] - 33s 2ms/step - loss: 0.0387 - accuracy: 0.9092 - val_loss: 0.0380 - val_accuracy: 0.9120\n",
      "Epoch 12/20\n",
      "21781/21781 [==============================] - 33s 2ms/step - loss: 0.0389 - accuracy: 0.9088 - val_loss: 0.0380 - val_accuracy: 0.9092\n",
      "Epoch 13/20\n",
      "21781/21781 [==============================] - 34s 2ms/step - loss: 0.0410 - accuracy: 0.9073 - val_loss: 0.0422 - val_accuracy: 0.8962\n",
      "Epoch 14/20\n",
      "21781/21781 [==============================] - 33s 2ms/step - loss: 0.0403 - accuracy: 0.9044 - val_loss: 0.0375 - val_accuracy: 0.9172\n",
      "Epoch 15/20\n",
      "21781/21781 [==============================] - 34s 2ms/step - loss: 0.0399 - accuracy: 0.9090 - val_loss: 0.0369 - val_accuracy: 0.9145\n",
      "Epoch 16/20\n",
      "21781/21781 [==============================] - 33s 2ms/step - loss: 0.0387 - accuracy: 0.9114 - val_loss: 0.0412 - val_accuracy: 0.9022\n",
      "Epoch 17/20\n",
      "21781/21781 [==============================] - 34s 2ms/step - loss: 0.0386 - accuracy: 0.9120 - val_loss: 0.0452 - val_accuracy: 0.8936\n",
      "Epoch 18/20\n",
      "21781/21781 [==============================] - 33s 2ms/step - loss: 0.0386 - accuracy: 0.9128 - val_loss: 0.0384 - val_accuracy: 0.9133\n",
      "Epoch 19/20\n",
      "21781/21781 [==============================] - 34s 2ms/step - loss: 0.0394 - accuracy: 0.9119 - val_loss: 0.0398 - val_accuracy: 0.9056\n",
      "Epoch 20/20\n",
      "21781/21781 [==============================] - 34s 2ms/step - loss: 0.0507 - accuracy: 0.8863 - val_loss: 0.0535 - val_accuracy: 0.8907\n"
     ]
    },
    {
     "data": {
      "text/plain": [
       "<keras.callbacks.History at 0x2b24e2e0b640>"
      ]
     },
     "execution_count": 39,
     "metadata": {},
     "output_type": "execute_result"
    }
   ],
   "source": [
    "# Train the deep neural network model\n",
    "model.fit(X_train_encoded, y_train, epochs=20, batch_size=32, shuffle=True, validation_data=(X_test_encoded, y_test))"
   ]
  },
  {
   "cell_type": "code",
   "execution_count": 41,
   "id": "5396fce3-a7f3-4978-9202-7a36761c8f74",
   "metadata": {},
   "outputs": [
    {
     "ename": "InvalidArgumentError",
     "evalue": "Graph execution error:\n\nDetected at node 'sequential_1/dense_5/Relu' defined at (most recent call last):\n    File \"/shared/centos7/anaconda3/2021.05/lib/python3.8/runpy.py\", line 194, in _run_module_as_main\n      return _run_code(code, main_globals, None,\n    File \"/shared/centos7/anaconda3/2021.05/lib/python3.8/runpy.py\", line 87, in _run_code\n      exec(code, run_globals)\n    File \"/shared/centos7/anaconda3/2021.05/lib/python3.8/site-packages/ipykernel_launcher.py\", line 16, in <module>\n      app.launch_new_instance()\n    File \"/shared/centos7/anaconda3/2021.05/lib/python3.8/site-packages/traitlets/config/application.py\", line 845, in launch_instance\n      app.start()\n    File \"/shared/centos7/anaconda3/2021.05/lib/python3.8/site-packages/ipykernel/kernelapp.py\", line 612, in start\n      self.io_loop.start()\n    File \"/shared/centos7/anaconda3/2021.05/lib/python3.8/site-packages/tornado/platform/asyncio.py\", line 199, in start\n      self.asyncio_loop.run_forever()\n    File \"/shared/centos7/anaconda3/2021.05/lib/python3.8/asyncio/base_events.py\", line 570, in run_forever\n      self._run_once()\n    File \"/shared/centos7/anaconda3/2021.05/lib/python3.8/asyncio/base_events.py\", line 1859, in _run_once\n      handle._run()\n    File \"/shared/centos7/anaconda3/2021.05/lib/python3.8/asyncio/events.py\", line 81, in _run\n      self._context.run(self._callback, *self._args)\n    File \"/shared/centos7/anaconda3/2021.05/lib/python3.8/site-packages/tornado/ioloop.py\", line 688, in <lambda>\n      lambda f: self._run_callback(functools.partial(callback, future))\n    File \"/shared/centos7/anaconda3/2021.05/lib/python3.8/site-packages/tornado/ioloop.py\", line 741, in _run_callback\n      ret = callback()\n    File \"/shared/centos7/anaconda3/2021.05/lib/python3.8/site-packages/tornado/gen.py\", line 814, in inner\n      self.ctx_run(self.run)\n    File \"/shared/centos7/anaconda3/2021.05/lib/python3.8/site-packages/tornado/gen.py\", line 775, in run\n      yielded = self.gen.send(value)\n    File \"/shared/centos7/anaconda3/2021.05/lib/python3.8/site-packages/ipykernel/kernelbase.py\", line 365, in process_one\n      yield gen.maybe_future(dispatch(*args))\n    File \"/shared/centos7/anaconda3/2021.05/lib/python3.8/site-packages/tornado/gen.py\", line 234, in wrapper\n      yielded = ctx_run(next, result)\n    File \"/shared/centos7/anaconda3/2021.05/lib/python3.8/site-packages/ipykernel/kernelbase.py\", line 268, in dispatch_shell\n      yield gen.maybe_future(handler(stream, idents, msg))\n    File \"/shared/centos7/anaconda3/2021.05/lib/python3.8/site-packages/tornado/gen.py\", line 234, in wrapper\n      yielded = ctx_run(next, result)\n    File \"/shared/centos7/anaconda3/2021.05/lib/python3.8/site-packages/ipykernel/kernelbase.py\", line 543, in execute_request\n      self.do_execute(\n    File \"/shared/centos7/anaconda3/2021.05/lib/python3.8/site-packages/tornado/gen.py\", line 234, in wrapper\n      yielded = ctx_run(next, result)\n    File \"/shared/centos7/anaconda3/2021.05/lib/python3.8/site-packages/ipykernel/ipkernel.py\", line 306, in do_execute\n      res = shell.run_cell(code, store_history=store_history, silent=silent)\n    File \"/shared/centos7/anaconda3/2021.05/lib/python3.8/site-packages/ipykernel/zmqshell.py\", line 536, in run_cell\n      return super(ZMQInteractiveShell, self).run_cell(*args, **kwargs)\n    File \"/shared/centos7/anaconda3/2021.05/lib/python3.8/site-packages/IPython/core/interactiveshell.py\", line 2894, in run_cell\n      result = self._run_cell(\n    File \"/shared/centos7/anaconda3/2021.05/lib/python3.8/site-packages/IPython/core/interactiveshell.py\", line 2940, in _run_cell\n      return runner(coro)\n    File \"/shared/centos7/anaconda3/2021.05/lib/python3.8/site-packages/IPython/core/async_helpers.py\", line 68, in _pseudo_sync_runner\n      coro.send(None)\n    File \"/shared/centos7/anaconda3/2021.05/lib/python3.8/site-packages/IPython/core/interactiveshell.py\", line 3165, in run_cell_async\n      has_raised = await self.run_ast_nodes(code_ast.body, cell_name,\n    File \"/shared/centos7/anaconda3/2021.05/lib/python3.8/site-packages/IPython/core/interactiveshell.py\", line 3357, in run_ast_nodes\n      if (await self.run_code(code, result,  async_=asy)):\n    File \"/shared/centos7/anaconda3/2021.05/lib/python3.8/site-packages/IPython/core/interactiveshell.py\", line 3437, in run_code\n      exec(code_obj, self.user_global_ns, self.user_ns)\n    File \"<ipython-input-40-aca2084f00f6>\", line 2, in <module>\n      test_loss, test_acc = model.evaluate(X_test, y_test)\n    File \"/home/gupta.aay/.local/lib/python3.8/site-packages/keras/utils/traceback_utils.py\", line 65, in error_handler\n      return fn(*args, **kwargs)\n    File \"/home/gupta.aay/.local/lib/python3.8/site-packages/keras/engine/training.py\", line 2040, in evaluate\n      tmp_logs = self.test_function(iterator)\n    File \"/home/gupta.aay/.local/lib/python3.8/site-packages/keras/engine/training.py\", line 1820, in test_function\n      return step_function(self, iterator)\n    File \"/home/gupta.aay/.local/lib/python3.8/site-packages/keras/engine/training.py\", line 1804, in step_function\n      outputs = model.distribute_strategy.run(run_step, args=(data,))\n    File \"/home/gupta.aay/.local/lib/python3.8/site-packages/keras/engine/training.py\", line 1792, in run_step\n      outputs = model.test_step(data)\n    File \"/home/gupta.aay/.local/lib/python3.8/site-packages/keras/engine/training.py\", line 1756, in test_step\n      y_pred = self(x, training=False)\n    File \"/home/gupta.aay/.local/lib/python3.8/site-packages/keras/utils/traceback_utils.py\", line 65, in error_handler\n      return fn(*args, **kwargs)\n    File \"/home/gupta.aay/.local/lib/python3.8/site-packages/keras/engine/training.py\", line 561, in __call__\n      return super().__call__(*args, **kwargs)\n    File \"/home/gupta.aay/.local/lib/python3.8/site-packages/keras/utils/traceback_utils.py\", line 65, in error_handler\n      return fn(*args, **kwargs)\n    File \"/home/gupta.aay/.local/lib/python3.8/site-packages/keras/engine/base_layer.py\", line 1132, in __call__\n      outputs = call_fn(inputs, *args, **kwargs)\n    File \"/home/gupta.aay/.local/lib/python3.8/site-packages/keras/utils/traceback_utils.py\", line 96, in error_handler\n      return fn(*args, **kwargs)\n    File \"/home/gupta.aay/.local/lib/python3.8/site-packages/keras/engine/sequential.py\", line 413, in call\n      return super().call(inputs, training=training, mask=mask)\n    File \"/home/gupta.aay/.local/lib/python3.8/site-packages/keras/engine/functional.py\", line 511, in call\n      return self._run_internal_graph(inputs, training=training, mask=mask)\n    File \"/home/gupta.aay/.local/lib/python3.8/site-packages/keras/engine/functional.py\", line 668, in _run_internal_graph\n      outputs = node.layer(*args, **kwargs)\n    File \"/home/gupta.aay/.local/lib/python3.8/site-packages/keras/utils/traceback_utils.py\", line 65, in error_handler\n      return fn(*args, **kwargs)\n    File \"/home/gupta.aay/.local/lib/python3.8/site-packages/keras/engine/base_layer.py\", line 1132, in __call__\n      outputs = call_fn(inputs, *args, **kwargs)\n    File \"/home/gupta.aay/.local/lib/python3.8/site-packages/keras/utils/traceback_utils.py\", line 96, in error_handler\n      return fn(*args, **kwargs)\n    File \"/home/gupta.aay/.local/lib/python3.8/site-packages/keras/layers/core/dense.py\", line 255, in call\n      outputs = self.activation(outputs)\n    File \"/home/gupta.aay/.local/lib/python3.8/site-packages/keras/activations.py\", line 317, in relu\n      return backend.relu(\n    File \"/home/gupta.aay/.local/lib/python3.8/site-packages/keras/backend.py\", line 5369, in relu\n      x = tf.nn.relu(x)\nNode: 'sequential_1/dense_5/Relu'\nMatrix size-incompatible: In[0]: [32,40], In[1]: [20,64]\n\t [[{{node sequential_1/dense_5/Relu}}]] [Op:__inference_test_function_7378720]",
     "output_type": "error",
     "traceback": [
      "\u001b[0;31m---------------------------------------------------------------------------\u001b[0m",
      "\u001b[0;31mInvalidArgumentError\u001b[0m                      Traceback (most recent call last)",
      "\u001b[0;32m<ipython-input-41-0ad27380a3f2>\u001b[0m in \u001b[0;36m<module>\u001b[0;34m\u001b[0m\n\u001b[1;32m      1\u001b[0m \u001b[0;31m# Evaluate the model on the testing set\u001b[0m\u001b[0;34m\u001b[0m\u001b[0;34m\u001b[0m\u001b[0;34m\u001b[0m\u001b[0m\n\u001b[0;32m----> 2\u001b[0;31m \u001b[0mtest_loss\u001b[0m\u001b[0;34m,\u001b[0m \u001b[0mtest_acc\u001b[0m \u001b[0;34m=\u001b[0m \u001b[0mmodel\u001b[0m\u001b[0;34m.\u001b[0m\u001b[0mevaluate\u001b[0m\u001b[0;34m(\u001b[0m\u001b[0mX_test\u001b[0m\u001b[0;34m,\u001b[0m \u001b[0my_test\u001b[0m\u001b[0;34m)\u001b[0m\u001b[0;34m\u001b[0m\u001b[0;34m\u001b[0m\u001b[0m\n\u001b[0m\u001b[1;32m      3\u001b[0m \u001b[0mprint\u001b[0m\u001b[0;34m(\u001b[0m\u001b[0;34m'Test accuracy:'\u001b[0m\u001b[0;34m,\u001b[0m \u001b[0mtest_acc\u001b[0m\u001b[0;34m)\u001b[0m\u001b[0;34m\u001b[0m\u001b[0;34m\u001b[0m\u001b[0m\n",
      "\u001b[0;32m~/.local/lib/python3.8/site-packages/keras/utils/traceback_utils.py\u001b[0m in \u001b[0;36merror_handler\u001b[0;34m(*args, **kwargs)\u001b[0m\n\u001b[1;32m     68\u001b[0m             \u001b[0;31m# To get the full stack trace, call:\u001b[0m\u001b[0;34m\u001b[0m\u001b[0;34m\u001b[0m\u001b[0;34m\u001b[0m\u001b[0m\n\u001b[1;32m     69\u001b[0m             \u001b[0;31m# `tf.debugging.disable_traceback_filtering()`\u001b[0m\u001b[0;34m\u001b[0m\u001b[0;34m\u001b[0m\u001b[0;34m\u001b[0m\u001b[0m\n\u001b[0;32m---> 70\u001b[0;31m             \u001b[0;32mraise\u001b[0m \u001b[0me\u001b[0m\u001b[0;34m.\u001b[0m\u001b[0mwith_traceback\u001b[0m\u001b[0;34m(\u001b[0m\u001b[0mfiltered_tb\u001b[0m\u001b[0;34m)\u001b[0m \u001b[0;32mfrom\u001b[0m \u001b[0;32mNone\u001b[0m\u001b[0;34m\u001b[0m\u001b[0;34m\u001b[0m\u001b[0m\n\u001b[0m\u001b[1;32m     71\u001b[0m         \u001b[0;32mfinally\u001b[0m\u001b[0;34m:\u001b[0m\u001b[0;34m\u001b[0m\u001b[0;34m\u001b[0m\u001b[0m\n\u001b[1;32m     72\u001b[0m             \u001b[0;32mdel\u001b[0m \u001b[0mfiltered_tb\u001b[0m\u001b[0;34m\u001b[0m\u001b[0;34m\u001b[0m\u001b[0m\n",
      "\u001b[0;32m~/.local/lib/python3.8/site-packages/tensorflow/python/eager/execute.py\u001b[0m in \u001b[0;36mquick_execute\u001b[0;34m(op_name, num_outputs, inputs, attrs, ctx, name)\u001b[0m\n\u001b[1;32m     50\u001b[0m   \u001b[0;32mtry\u001b[0m\u001b[0;34m:\u001b[0m\u001b[0;34m\u001b[0m\u001b[0;34m\u001b[0m\u001b[0m\n\u001b[1;32m     51\u001b[0m     \u001b[0mctx\u001b[0m\u001b[0;34m.\u001b[0m\u001b[0mensure_initialized\u001b[0m\u001b[0;34m(\u001b[0m\u001b[0;34m)\u001b[0m\u001b[0;34m\u001b[0m\u001b[0;34m\u001b[0m\u001b[0m\n\u001b[0;32m---> 52\u001b[0;31m     tensors = pywrap_tfe.TFE_Py_Execute(ctx._handle, device_name, op_name,\n\u001b[0m\u001b[1;32m     53\u001b[0m                                         inputs, attrs, num_outputs)\n\u001b[1;32m     54\u001b[0m   \u001b[0;32mexcept\u001b[0m \u001b[0mcore\u001b[0m\u001b[0;34m.\u001b[0m\u001b[0m_NotOkStatusException\u001b[0m \u001b[0;32mas\u001b[0m \u001b[0me\u001b[0m\u001b[0;34m:\u001b[0m\u001b[0;34m\u001b[0m\u001b[0;34m\u001b[0m\u001b[0m\n",
      "\u001b[0;31mInvalidArgumentError\u001b[0m: Graph execution error:\n\nDetected at node 'sequential_1/dense_5/Relu' defined at (most recent call last):\n    File \"/shared/centos7/anaconda3/2021.05/lib/python3.8/runpy.py\", line 194, in _run_module_as_main\n      return _run_code(code, main_globals, None,\n    File \"/shared/centos7/anaconda3/2021.05/lib/python3.8/runpy.py\", line 87, in _run_code\n      exec(code, run_globals)\n    File \"/shared/centos7/anaconda3/2021.05/lib/python3.8/site-packages/ipykernel_launcher.py\", line 16, in <module>\n      app.launch_new_instance()\n    File \"/shared/centos7/anaconda3/2021.05/lib/python3.8/site-packages/traitlets/config/application.py\", line 845, in launch_instance\n      app.start()\n    File \"/shared/centos7/anaconda3/2021.05/lib/python3.8/site-packages/ipykernel/kernelapp.py\", line 612, in start\n      self.io_loop.start()\n    File \"/shared/centos7/anaconda3/2021.05/lib/python3.8/site-packages/tornado/platform/asyncio.py\", line 199, in start\n      self.asyncio_loop.run_forever()\n    File \"/shared/centos7/anaconda3/2021.05/lib/python3.8/asyncio/base_events.py\", line 570, in run_forever\n      self._run_once()\n    File \"/shared/centos7/anaconda3/2021.05/lib/python3.8/asyncio/base_events.py\", line 1859, in _run_once\n      handle._run()\n    File \"/shared/centos7/anaconda3/2021.05/lib/python3.8/asyncio/events.py\", line 81, in _run\n      self._context.run(self._callback, *self._args)\n    File \"/shared/centos7/anaconda3/2021.05/lib/python3.8/site-packages/tornado/ioloop.py\", line 688, in <lambda>\n      lambda f: self._run_callback(functools.partial(callback, future))\n    File \"/shared/centos7/anaconda3/2021.05/lib/python3.8/site-packages/tornado/ioloop.py\", line 741, in _run_callback\n      ret = callback()\n    File \"/shared/centos7/anaconda3/2021.05/lib/python3.8/site-packages/tornado/gen.py\", line 814, in inner\n      self.ctx_run(self.run)\n    File \"/shared/centos7/anaconda3/2021.05/lib/python3.8/site-packages/tornado/gen.py\", line 775, in run\n      yielded = self.gen.send(value)\n    File \"/shared/centos7/anaconda3/2021.05/lib/python3.8/site-packages/ipykernel/kernelbase.py\", line 365, in process_one\n      yield gen.maybe_future(dispatch(*args))\n    File \"/shared/centos7/anaconda3/2021.05/lib/python3.8/site-packages/tornado/gen.py\", line 234, in wrapper\n      yielded = ctx_run(next, result)\n    File \"/shared/centos7/anaconda3/2021.05/lib/python3.8/site-packages/ipykernel/kernelbase.py\", line 268, in dispatch_shell\n      yield gen.maybe_future(handler(stream, idents, msg))\n    File \"/shared/centos7/anaconda3/2021.05/lib/python3.8/site-packages/tornado/gen.py\", line 234, in wrapper\n      yielded = ctx_run(next, result)\n    File \"/shared/centos7/anaconda3/2021.05/lib/python3.8/site-packages/ipykernel/kernelbase.py\", line 543, in execute_request\n      self.do_execute(\n    File \"/shared/centos7/anaconda3/2021.05/lib/python3.8/site-packages/tornado/gen.py\", line 234, in wrapper\n      yielded = ctx_run(next, result)\n    File \"/shared/centos7/anaconda3/2021.05/lib/python3.8/site-packages/ipykernel/ipkernel.py\", line 306, in do_execute\n      res = shell.run_cell(code, store_history=store_history, silent=silent)\n    File \"/shared/centos7/anaconda3/2021.05/lib/python3.8/site-packages/ipykernel/zmqshell.py\", line 536, in run_cell\n      return super(ZMQInteractiveShell, self).run_cell(*args, **kwargs)\n    File \"/shared/centos7/anaconda3/2021.05/lib/python3.8/site-packages/IPython/core/interactiveshell.py\", line 2894, in run_cell\n      result = self._run_cell(\n    File \"/shared/centos7/anaconda3/2021.05/lib/python3.8/site-packages/IPython/core/interactiveshell.py\", line 2940, in _run_cell\n      return runner(coro)\n    File \"/shared/centos7/anaconda3/2021.05/lib/python3.8/site-packages/IPython/core/async_helpers.py\", line 68, in _pseudo_sync_runner\n      coro.send(None)\n    File \"/shared/centos7/anaconda3/2021.05/lib/python3.8/site-packages/IPython/core/interactiveshell.py\", line 3165, in run_cell_async\n      has_raised = await self.run_ast_nodes(code_ast.body, cell_name,\n    File \"/shared/centos7/anaconda3/2021.05/lib/python3.8/site-packages/IPython/core/interactiveshell.py\", line 3357, in run_ast_nodes\n      if (await self.run_code(code, result,  async_=asy)):\n    File \"/shared/centos7/anaconda3/2021.05/lib/python3.8/site-packages/IPython/core/interactiveshell.py\", line 3437, in run_code\n      exec(code_obj, self.user_global_ns, self.user_ns)\n    File \"<ipython-input-40-aca2084f00f6>\", line 2, in <module>\n      test_loss, test_acc = model.evaluate(X_test, y_test)\n    File \"/home/gupta.aay/.local/lib/python3.8/site-packages/keras/utils/traceback_utils.py\", line 65, in error_handler\n      return fn(*args, **kwargs)\n    File \"/home/gupta.aay/.local/lib/python3.8/site-packages/keras/engine/training.py\", line 2040, in evaluate\n      tmp_logs = self.test_function(iterator)\n    File \"/home/gupta.aay/.local/lib/python3.8/site-packages/keras/engine/training.py\", line 1820, in test_function\n      return step_function(self, iterator)\n    File \"/home/gupta.aay/.local/lib/python3.8/site-packages/keras/engine/training.py\", line 1804, in step_function\n      outputs = model.distribute_strategy.run(run_step, args=(data,))\n    File \"/home/gupta.aay/.local/lib/python3.8/site-packages/keras/engine/training.py\", line 1792, in run_step\n      outputs = model.test_step(data)\n    File \"/home/gupta.aay/.local/lib/python3.8/site-packages/keras/engine/training.py\", line 1756, in test_step\n      y_pred = self(x, training=False)\n    File \"/home/gupta.aay/.local/lib/python3.8/site-packages/keras/utils/traceback_utils.py\", line 65, in error_handler\n      return fn(*args, **kwargs)\n    File \"/home/gupta.aay/.local/lib/python3.8/site-packages/keras/engine/training.py\", line 561, in __call__\n      return super().__call__(*args, **kwargs)\n    File \"/home/gupta.aay/.local/lib/python3.8/site-packages/keras/utils/traceback_utils.py\", line 65, in error_handler\n      return fn(*args, **kwargs)\n    File \"/home/gupta.aay/.local/lib/python3.8/site-packages/keras/engine/base_layer.py\", line 1132, in __call__\n      outputs = call_fn(inputs, *args, **kwargs)\n    File \"/home/gupta.aay/.local/lib/python3.8/site-packages/keras/utils/traceback_utils.py\", line 96, in error_handler\n      return fn(*args, **kwargs)\n    File \"/home/gupta.aay/.local/lib/python3.8/site-packages/keras/engine/sequential.py\", line 413, in call\n      return super().call(inputs, training=training, mask=mask)\n    File \"/home/gupta.aay/.local/lib/python3.8/site-packages/keras/engine/functional.py\", line 511, in call\n      return self._run_internal_graph(inputs, training=training, mask=mask)\n    File \"/home/gupta.aay/.local/lib/python3.8/site-packages/keras/engine/functional.py\", line 668, in _run_internal_graph\n      outputs = node.layer(*args, **kwargs)\n    File \"/home/gupta.aay/.local/lib/python3.8/site-packages/keras/utils/traceback_utils.py\", line 65, in error_handler\n      return fn(*args, **kwargs)\n    File \"/home/gupta.aay/.local/lib/python3.8/site-packages/keras/engine/base_layer.py\", line 1132, in __call__\n      outputs = call_fn(inputs, *args, **kwargs)\n    File \"/home/gupta.aay/.local/lib/python3.8/site-packages/keras/utils/traceback_utils.py\", line 96, in error_handler\n      return fn(*args, **kwargs)\n    File \"/home/gupta.aay/.local/lib/python3.8/site-packages/keras/layers/core/dense.py\", line 255, in call\n      outputs = self.activation(outputs)\n    File \"/home/gupta.aay/.local/lib/python3.8/site-packages/keras/activations.py\", line 317, in relu\n      return backend.relu(\n    File \"/home/gupta.aay/.local/lib/python3.8/site-packages/keras/backend.py\", line 5369, in relu\n      x = tf.nn.relu(x)\nNode: 'sequential_1/dense_5/Relu'\nMatrix size-incompatible: In[0]: [32,40], In[1]: [20,64]\n\t [[{{node sequential_1/dense_5/Relu}}]] [Op:__inference_test_function_7378720]"
     ]
    }
   ],
   "source": [
    "# Evaluate the model on the testing set\n",
    "test_loss, test_acc = model.evaluate(X_test, y_test)\n",
    "print('Test accuracy:', test_acc)"
   ]
  },
  {
   "cell_type": "markdown",
   "id": "62ea8580-2ea9-4e66-8106-c4d086a55e0c",
   "metadata": {},
   "source": [
    "## GAN"
   ]
  },
  {
   "cell_type": "code",
   "execution_count": 14,
   "id": "571750f4-5c2d-41b9-87f1-037df655ce04",
   "metadata": {},
   "outputs": [
    {
     "data": {
      "text/plain": [
       "'\\nfrom keras.models import Sequential, Model\\nfrom keras.layers import Dense, Dropout, Input, BatchNormalization, Activation\\nfrom keras.layers import LeakyReLU\\nfrom keras.optimizers import Adam\\nimport numpy as np\\nimport pandas as pd\\n\\n# Load and preprocess data\\n# data = pd.read_csv(\\'CICIDS2017.csv\\')\\nX = data.drop(\\'Label\\', axis=1)\\ny = data[\\'Label\\']\\nX = X.values.astype(\\'float32\\') / 255\\n\\n# Define generator\\ngenerator = Sequential()\\ngenerator.add(Dense(256, input_dim=100))\\ngenerator.add(LeakyReLU(alpha=0.2))\\ngenerator.add(BatchNormalization(momentum=0.8))\\ngenerator.add(Dense(512))\\ngenerator.add(LeakyReLU(alpha=0.2))\\ngenerator.add(BatchNormalization(momentum=0.8))\\ngenerator.add(Dense(1024))\\ngenerator.add(LeakyReLU(alpha=0.2))\\ngenerator.add(BatchNormalization(momentum=0.8))\\ngenerator.add(Dense(np.prod(X.shape[1:]), activation=\\'tanh\\'))\\ngenerator.add(Reshape(X.shape[1:]))\\n\\n# Define discriminator\\ndiscriminator = Sequential()\\ndiscriminator.add(Flatten(input_shape=X.shape[1:]))\\ndiscriminator.add(Dense(512))\\ndiscriminator.add(LeakyReLU(alpha=0.2))\\ndiscriminator.add(Dense(256))\\ndiscriminator.add(LeakyReLU(alpha=0.2))\\ndiscriminator.add(Dense(1, activation=\\'sigmoid\\'))\\n\\n# Compile discriminator\\ndiscriminator.compile(loss=\\'binary_crossentropy\\', optimizer=Adam(0.0002, 0.5), metrics=[\\'accuracy\\'])\\n\\n# Define combined model\\nz = Input(shape=(100,))\\nimg = generator(z)\\ndiscriminator.trainable = False\\nvalid = discriminator(img)\\ncombined = Model(z, valid)\\ncombined.compile(loss=\\'binary_crossentropy\\', optimizer=Adam(0.0002, 0.5))\\n\\n# Train GAN\\nepochs = 20000\\nbatch_size = 32\\nhalf_batch = int(batch_size / 2)\\n\\nfor epoch in range(epochs):\\n    # Train discriminator\\n    idx = np.random.randint(0, X.shape[0], half_batch)\\n    imgs = X[idx]\\n    noise = np.random.normal(0, 1, (half_batch, 100))\\n    gen_imgs = generator.predict(noise)\\n    d_loss_real = discriminator.train_on_batch(imgs, np.ones((half_batch, 1)))\\n    d_loss_fake = discriminator.train_on_batch(gen_imgs, np.zeros((half_batch, 1)))\\n    d_loss = 0.5 * np.add(d_loss_real, d_loss_fake)\\n\\n    # Train generator\\n    noise = np.random.normal(0, 1, (batch_size, 100))\\n    valid_y = np.array([1] * batch_size)\\n    g_loss = combined.train_on_batch(noise, valid_y)\\n\\n    # Print progress\\n    if epoch % 100 == 0:\\n        print(\"%d [D loss: %f, acc.: %.2f%%] [G loss: %f]\" % (epoch, d_loss[0], 100 * d_loss[1], g_loss))\\n'"
      ]
     },
     "execution_count": 14,
     "metadata": {},
     "output_type": "execute_result"
    }
   ],
   "source": [
    "'''\n",
    "from keras.models import Sequential, Model\n",
    "from keras.layers import Dense, Dropout, Input, BatchNormalization, Activation\n",
    "from keras.layers import LeakyReLU\n",
    "from keras.optimizers import Adam\n",
    "import numpy as np\n",
    "import pandas as pd\n",
    "\n",
    "# Load and preprocess data\n",
    "# data = pd.read_csv('CICIDS2017.csv')\n",
    "X = data.drop('Label', axis=1)\n",
    "y = data['Label']\n",
    "X = X.values.astype('float32') / 255\n",
    "\n",
    "# Define generator\n",
    "generator = Sequential()\n",
    "generator.add(Dense(256, input_dim=100))\n",
    "generator.add(LeakyReLU(alpha=0.2))\n",
    "generator.add(BatchNormalization(momentum=0.8))\n",
    "generator.add(Dense(512))\n",
    "generator.add(LeakyReLU(alpha=0.2))\n",
    "generator.add(BatchNormalization(momentum=0.8))\n",
    "generator.add(Dense(1024))\n",
    "generator.add(LeakyReLU(alpha=0.2))\n",
    "generator.add(BatchNormalization(momentum=0.8))\n",
    "generator.add(Dense(np.prod(X.shape[1:]), activation='tanh'))\n",
    "generator.add(Reshape(X.shape[1:]))\n",
    "\n",
    "# Define discriminator\n",
    "discriminator = Sequential()\n",
    "discriminator.add(Flatten(input_shape=X.shape[1:]))\n",
    "discriminator.add(Dense(512))\n",
    "discriminator.add(LeakyReLU(alpha=0.2))\n",
    "discriminator.add(Dense(256))\n",
    "discriminator.add(LeakyReLU(alpha=0.2))\n",
    "discriminator.add(Dense(1, activation='sigmoid'))\n",
    "\n",
    "# Compile discriminator\n",
    "discriminator.compile(loss='binary_crossentropy', optimizer=Adam(0.0002, 0.5), metrics=['accuracy'])\n",
    "\n",
    "# Define combined model\n",
    "z = Input(shape=(100,))\n",
    "img = generator(z)\n",
    "discriminator.trainable = False\n",
    "valid = discriminator(img)\n",
    "combined = Model(z, valid)\n",
    "combined.compile(loss='binary_crossentropy', optimizer=Adam(0.0002, 0.5))\n",
    "\n",
    "# Train GAN\n",
    "epochs = 20000\n",
    "batch_size = 32\n",
    "half_batch = int(batch_size / 2)\n",
    "\n",
    "for epoch in range(epochs):\n",
    "    # Train discriminator\n",
    "    idx = np.random.randint(0, X.shape[0], half_batch)\n",
    "    imgs = X[idx]\n",
    "    noise = np.random.normal(0, 1, (half_batch, 100))\n",
    "    gen_imgs = generator.predict(noise)\n",
    "    d_loss_real = discriminator.train_on_batch(imgs, np.ones((half_batch, 1)))\n",
    "    d_loss_fake = discriminator.train_on_batch(gen_imgs, np.zeros((half_batch, 1)))\n",
    "    d_loss = 0.5 * np.add(d_loss_real, d_loss_fake)\n",
    "\n",
    "    # Train generator\n",
    "    noise = np.random.normal(0, 1, (batch_size, 100))\n",
    "    valid_y = np.array([1] * batch_size)\n",
    "    g_loss = combined.train_on_batch(noise, valid_y)\n",
    "\n",
    "    # Print progress\n",
    "    if epoch % 100 == 0:\n",
    "        print(\"%d [D loss: %f, acc.: %.2f%%] [G loss: %f]\" % (epoch, d_loss[0], 100 * d_loss[1], g_loss))\n",
    "'''"
   ]
  },
  {
   "cell_type": "code",
   "execution_count": null,
   "id": "2edf24a1-6474-434e-ab24-ed8c67e7c818",
   "metadata": {},
   "outputs": [],
   "source": []
  }
 ],
 "metadata": {
  "kernelspec": {
   "display_name": "Python 3",
   "language": "python",
   "name": "python3"
  },
  "language_info": {
   "codemirror_mode": {
    "name": "ipython",
    "version": 3
   },
   "file_extension": ".py",
   "mimetype": "text/x-python",
   "name": "python",
   "nbconvert_exporter": "python",
   "pygments_lexer": "ipython3",
   "version": "3.8.8"
  }
 },
 "nbformat": 4,
 "nbformat_minor": 5
}
