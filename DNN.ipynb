{
 "cells": [
  {
   "cell_type": "code",
   "execution_count": 4,
   "metadata": {},
   "outputs": [],
   "source": [
    "from keras.datasets import mnist\n",
    "from keras.models import Sequential \n",
    "from keras.layers.core import Dense, Activation\n",
    "from keras.utils import np_utils\n",
    " \n"
   ]
  },
  {
   "cell_type": "code",
   "execution_count": 5,
   "metadata": {},
   "outputs": [
    {
     "name": "stdout",
     "output_type": "stream",
     "text": [
      "Downloading data from https://storage.googleapis.com/tensorflow/tf-keras-datasets/mnist.npz\n",
      "11493376/11490434 [==============================] - 14s 1us/step\n"
     ]
    }
   ],
   "source": [
    "(X_train, Y_train), (X_test, Y_test) = mnist.load_data()\n",
    "\n",
    "X_train = X_train.reshape(60000, 784)     \n",
    "X_test = X_test.reshape(10000, 784)\n",
    "X_train = X_train.astype('float32')     \n",
    "X_test = X_test.astype('float32')     \n",
    "Y_train = np_utils.to_categorical(Y_train, classes)     \n",
    "Y_test = np_utils.to_categorical(Y_test, classes)\n",
    " "
   ]
  },
  {
   "cell_type": "code",
   "execution_count": 6,
   "metadata": {},
   "outputs": [],
   "source": [
    "input_size'size = 784\n",
    "batch_size = 100    \n",
    "hidden_neurons = 400    \n",
    "epochs = 30\n",
    " \n"
   ]
  },
  {
   "cell_type": "code",
   "execution_count": 7,
   "metadata": {},
   "outputs": [
    {
     "name": "stdout",
     "output_type": "stream",
     "text": [
      "Epoch 1/30\n",
      "600/600 [==============================] - 3s 5ms/step - loss: 2.3696 - accuracy: 0.0677\n",
      "Epoch 2/30\n",
      "600/600 [==============================] - 3s 5ms/step - loss: 2.1943 - accuracy: 0.2164\n",
      "Epoch 3/30\n",
      "600/600 [==============================] - 3s 5ms/step - loss: 2.0369 - accuracy: 0.3998\n",
      "Epoch 4/30\n",
      "600/600 [==============================] - 3s 5ms/step - loss: 1.8935 - accuracy: 0.5507\n",
      "Epoch 5/30\n",
      "600/600 [==============================] - 3s 6ms/step - loss: 1.7606 - accuracy: 0.6409: 0s - l\n",
      "Epoch 6/30\n",
      "600/600 [==============================] - 4s 6ms/step - loss: 1.6350 - accuracy: 0.6951\n",
      "Epoch 7/30\n",
      "600/600 [==============================] - 3s 5ms/step - loss: 1.5250 - accuracy: 0.7255\n",
      "Epoch 8/30\n",
      "600/600 [==============================] - 4s 7ms/step - loss: 1.4209 - accuracy: 0.7492\n",
      "Epoch 9/30\n",
      "600/600 [==============================] - 3s 5ms/step - loss: 1.3226 - accuracy: 0.7679\n",
      "Epoch 10/30\n",
      "600/600 [==============================] - 3s 5ms/step - loss: 1.2457 - accuracy: 0.7769\n",
      "Epoch 11/30\n",
      "600/600 [==============================] - 3s 5ms/step - loss: 1.1648 - accuracy: 0.7925\n",
      "Epoch 12/30\n",
      "600/600 [==============================] - 4s 7ms/step - loss: 1.0975 - accuracy: 0.8017\n",
      "Epoch 13/30\n",
      "600/600 [==============================] - 3s 5ms/step - loss: 1.0326 - accuracy: 0.8110\n",
      "Epoch 14/30\n",
      "600/600 [==============================] - 3s 5ms/step - loss: 0.9801 - accuracy: 0.8183\n",
      "Epoch 15/30\n",
      "600/600 [==============================] - 3s 5ms/step - loss: 0.9322 - accuracy: 0.8222\n",
      "Epoch 16/30\n",
      "600/600 [==============================] - 3s 5ms/step - loss: 0.8883 - accuracy: 0.8303\n",
      "Epoch 17/30\n",
      "600/600 [==============================] - 3s 5ms/step - loss: 0.8497 - accuracy: 0.8336\n",
      "Epoch 18/30\n",
      "600/600 [==============================] - 3s 6ms/step - loss: 0.8117 - accuracy: 0.8416\n",
      "Epoch 19/30\n",
      "600/600 [==============================] - 3s 5ms/step - loss: 0.7841 - accuracy: 0.8430\n",
      "Epoch 20/30\n",
      "600/600 [==============================] - 3s 5ms/step - loss: 0.7526 - accuracy: 0.8475\n",
      "Epoch 21/30\n",
      "600/600 [==============================] - 4s 6ms/step - loss: 0.7291 - accuracy: 0.8490\n",
      "Epoch 22/30\n",
      "600/600 [==============================] - 3s 5ms/step - loss: 0.7093 - accuracy: 0.8509\n",
      "Epoch 23/30\n",
      "600/600 [==============================] - 3s 6ms/step - loss: 0.6870 - accuracy: 0.8559\n",
      "Epoch 24/30\n",
      "600/600 [==============================] - 4s 7ms/step - loss: 0.6654 - accuracy: 0.8576\n",
      "Epoch 25/30\n",
      "600/600 [==============================] - 3s 6ms/step - loss: 0.6494 - accuracy: 0.8587\n",
      "Epoch 26/30\n",
      "600/600 [==============================] - 3s 5ms/step - loss: 0.6308 - accuracy: 0.8631\n",
      "Epoch 27/30\n",
      "600/600 [==============================] - 3s 5ms/step - loss: 0.6147 - accuracy: 0.8646\n",
      "Epoch 28/30\n",
      "600/600 [==============================] - 3s 5ms/step - loss: 0.5984 - accuracy: 0.8695\n",
      "Epoch 29/30\n",
      "600/600 [==============================] - 3s 5ms/step - loss: 0.5845 - accuracy: 0.8702\n",
      "Epoch 30/30\n",
      "600/600 [==============================] - 3s 5ms/step - loss: 0.5818 - accuracy: 0.8671\n"
     ]
    },
    {
     "data": {
      "text/plain": [
       "<tensorflow.python.keras.callbacks.History at 0x1a6e9a6ad68>"
      ]
     },
     "execution_count": 7,
     "metadata": {},
     "output_type": "execute_result"
    }
   ],
   "source": [
    "\n",
    "model = Sequential()     \n",
    "model.add(Dense(hidden_neurons, input_dim=input_size)) \n",
    "model.add(Activation('relu'))     \n",
    "model.add(Dense(classes, input_dim=hidden_neurons)) \n",
    "model.add(Activation('softmax'))\n",
    " \n",
    "model.compile(loss='categorical_crossentropy', \n",
    "    metrics=['accuracy'], optimizer='adadelta')\n",
    "model.fit(X_train, Y_train, batch_size=batch_size, epochs=epochs, verbose=1)\n",
    " \n"
   ]
  },
  {
   "cell_type": "code",
   "execution_count": 10,
   "metadata": {},
   "outputs": [
    {
     "name": "stdout",
     "output_type": "stream",
     "text": [
      "313/313 [==============================] - 1s 2ms/step - loss: 0.5435 - accuracy: 0.8796\n",
      "\n",
      "Test accuracy: 0.8795999884605408\n"
     ]
    }
   ],
   "source": [
    "score = model.evaluate(X_test, Y_test, verbose=1)\n",
    "print('\\n''Test accuracy:', score[1])"
   ]
  },
  {
   "cell_type": "code",
   "execution_count": null,
   "metadata": {},
   "outputs": [],
   "source": []
  }
 ],
 "metadata": {
  "kernelspec": {
   "display_name": "Python 3",
   "language": "python",
   "name": "python3"
  },
  "language_info": {
   "codemirror_mode": {
    "name": "ipython",
    "version": 3
   },
   "file_extension": ".py",
   "mimetype": "text/x-python",
   "name": "python",
   "nbconvert_exporter": "python",
   "pygments_lexer": "ipython3",
   "version": "3.7.3"
  }
 },
 "nbformat": 4,
 "nbformat_minor": 4
}
