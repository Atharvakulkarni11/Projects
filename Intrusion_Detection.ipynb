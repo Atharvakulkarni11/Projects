{
 "cells": [
  {
   "cell_type": "code",
   "execution_count": 1,
   "id": "c30e676f-1501-4302-bf24-07b4ddb855c0",
   "metadata": {},
   "outputs": [
    {
     "name": "stderr",
     "output_type": "stream",
     "text": [
      "<ipython-input-1-0fdce1df933a>:3: DeprecationWarning: `import pandas_profiling` is going to be deprecated by April 1st. Please use `import ydata_profiling` instead.\n",
      "  import pandas_profiling\n"
     ]
    }
   ],
   "source": [
    "import pandas as pd\n",
    "import numpy as np\n",
    "import pandas_profiling"
   ]
  },
  {
   "cell_type": "code",
   "execution_count": 2,
   "id": "34271b7a-d1dd-4150-bd0b-e2c50f6122cc",
   "metadata": {},
   "outputs": [],
   "source": [
    "df=pd.read_csv('intrusion.csv')"
   ]
  },
  {
   "cell_type": "code",
   "execution_count": 3,
   "id": "4e21d9f4-ef15-4d53-9fdc-3ac3e9a3964c",
   "metadata": {},
   "outputs": [],
   "source": [
    "new=df[[\"Destination Port\",\"Flow Duration\",\"Total Fwd Packets\",\"Total Backward Packets\" ,\"Fwd Packet Length Std\",\"Bwd Packet Length Std\",\"Flow Bytes/s\" ,\"Flow Packets/s\",\"Flow IAT Mean\" ,\"Fwd IAT Std\" ,\"Bwd IAT Std\" ,\"Fwd PSH Flags\" ,\"Bwd PSH Flags\" ,\"Fwd URG Flags\" ,\"Bwd URG Flags\" ,\"Fwd Packets/s\" ,\"Bwd Packets/s\" ,\"Packet Length Std\" ,\"FIN Flag Count\" ,\"SYN Flag Count\" ,\"RST Flag Count\" ,\"PSH Flag Count\" ,\"ACK Flag Count\" ,\"URG Flag Count\" ,\"CWE Flag Count\" ,\"ECE Flag Count\",\"Down/Up Ratio\" ,\"Average Packet Size\" ,\"Avg Fwd Segment Size\" ,\"Avg Bwd Segment Size\" ,\"Fwd Avg Bulk Rate\" ,\"Bwd Avg Bulk Rate\",\"Subflow Fwd Packets\" ,\"Subflow Fwd Bytes\" ,\"Subflow Bwd Packets\" ,\"Subflow Bwd Bytes\" ,\"Init_Win_bytes_forward\"\n",
    "             ,\"Init_Win_bytes_backward\" ,\"act_data_pkt_fwd\" ,\"min_seg_size_forward\" ,\"Active Std\",\"Idle Std\",\"Label\"]]"
   ]
  },
  {
   "cell_type": "code",
   "execution_count": 4,
   "id": "fe803b70-2d16-44d3-abfe-c67935d2c94b",
   "metadata": {},
   "outputs": [
    {
     "data": {
      "text/plain": [
       "(1057646, 43)"
      ]
     },
     "execution_count": 4,
     "metadata": {},
     "output_type": "execute_result"
    }
   ],
   "source": [
    "new.shape"
   ]
  },
  {
   "cell_type": "code",
   "execution_count": 5,
   "id": "7780d1bd-b68f-4c26-a86f-e0cb803f01fe",
   "metadata": {},
   "outputs": [
    {
     "data": {
      "text/plain": [
       "Destination Port              0\n",
       "Flow Duration                 0\n",
       "Total Fwd Packets             0\n",
       "Total Backward Packets        0\n",
       "Fwd Packet Length Std         0\n",
       "Bwd Packet Length Std         0\n",
       "Flow Bytes/s               1059\n",
       "Flow Packets/s                0\n",
       "Flow IAT Mean                 0\n",
       "Fwd IAT Std                   0\n",
       "Bwd IAT Std                   0\n",
       "Fwd PSH Flags                 0\n",
       "Bwd PSH Flags                 0\n",
       "Fwd URG Flags                 0\n",
       "Bwd URG Flags                 0\n",
       "Fwd Packets/s                 0\n",
       "Bwd Packets/s                 0\n",
       "Packet Length Std             0\n",
       "FIN Flag Count                0\n",
       "SYN Flag Count                0\n",
       "RST Flag Count                0\n",
       "PSH Flag Count                0\n",
       "ACK Flag Count                0\n",
       "URG Flag Count                0\n",
       "CWE Flag Count                0\n",
       "ECE Flag Count                0\n",
       "Down/Up Ratio                 0\n",
       "Average Packet Size           0\n",
       "Avg Fwd Segment Size          0\n",
       "Avg Bwd Segment Size          0\n",
       "Fwd Avg Bulk Rate             0\n",
       "Bwd Avg Bulk Rate             0\n",
       "Subflow Fwd Packets           0\n",
       "Subflow Fwd Bytes             0\n",
       "Subflow Bwd Packets           0\n",
       "Subflow Bwd Bytes             0\n",
       "Init_Win_bytes_forward        0\n",
       "Init_Win_bytes_backward       0\n",
       "act_data_pkt_fwd              0\n",
       "min_seg_size_forward          0\n",
       "Active Std                    0\n",
       "Idle Std                      0\n",
       "Label                         0\n",
       "dtype: int64"
      ]
     },
     "execution_count": 5,
     "metadata": {},
     "output_type": "execute_result"
    }
   ],
   "source": [
    "new.isnull().sum()"
   ]
  },
  {
   "cell_type": "code",
   "execution_count": 6,
   "id": "ea3720c1-54fe-4ff6-ab2d-43c8ee7fbf07",
   "metadata": {},
   "outputs": [
    {
     "name": "stderr",
     "output_type": "stream",
     "text": [
      "<ipython-input-6-00a98c03372c>:1: SettingWithCopyWarning: \n",
      "A value is trying to be set on a copy of a slice from a DataFrame\n",
      "\n",
      "See the caveats in the documentation: https://pandas.pydata.org/pandas-docs/stable/user_guide/indexing.html#returning-a-view-versus-a-copy\n",
      "  new.dropna(inplace=True)\n"
     ]
    }
   ],
   "source": [
    "new.dropna(inplace=True)"
   ]
  },
  {
   "cell_type": "code",
   "execution_count": 7,
   "id": "9fe57c14-0bd0-49dc-a3c6-fae5bcda8e02",
   "metadata": {},
   "outputs": [
    {
     "data": {
      "text/plain": [
       "(1056587, 43)"
      ]
     },
     "execution_count": 7,
     "metadata": {},
     "output_type": "execute_result"
    }
   ],
   "source": [
    "new.shape"
   ]
  },
  {
   "cell_type": "code",
   "execution_count": 8,
   "id": "0c331fc2-906e-4ca2-996d-5bbe2f152df0",
   "metadata": {},
   "outputs": [],
   "source": [
    "#prof=pandas_profiling.ProfileReport(new)"
   ]
  },
  {
   "cell_type": "code",
   "execution_count": 9,
   "id": "ef5be3ab-2fac-46c2-8878-b02b84752e5a",
   "metadata": {},
   "outputs": [],
   "source": [
    "#prof.to_file(output_file='output.html')"
   ]
  },
  {
   "cell_type": "code",
   "execution_count": 10,
   "id": "cd4728b1-361d-427c-8f4f-7938a179dfc6",
   "metadata": {},
   "outputs": [],
   "source": [
    "#remove duplicates\n",
    "# flow bytes/s , flow packets/s"
   ]
  },
  {
   "cell_type": "code",
   "execution_count": 11,
   "id": "e8a5b076-07ed-4e65-b5b7-c526e42f7f38",
   "metadata": {},
   "outputs": [
    {
     "name": "stderr",
     "output_type": "stream",
     "text": [
      "<ipython-input-11-896cc93336df>:1: SettingWithCopyWarning: \n",
      "A value is trying to be set on a copy of a slice from a DataFrame\n",
      "\n",
      "See the caveats in the documentation: https://pandas.pydata.org/pandas-docs/stable/user_guide/indexing.html#returning-a-view-versus-a-copy\n",
      "  new.drop_duplicates(inplace=True)\n"
     ]
    }
   ],
   "source": [
    "new.drop_duplicates(inplace=True)"
   ]
  },
  {
   "cell_type": "code",
   "execution_count": 12,
   "id": "b1e44b29-107a-483b-ace8-99e59af4853a",
   "metadata": {},
   "outputs": [
    {
     "data": {
      "text/plain": [
       "(871226, 43)"
      ]
     },
     "execution_count": 12,
     "metadata": {},
     "output_type": "execute_result"
    }
   ],
   "source": [
    "new.shape"
   ]
  },
  {
   "cell_type": "code",
   "execution_count": 13,
   "id": "ff4aff1d-5e09-44c3-94cb-fe195fb3940e",
   "metadata": {},
   "outputs": [
    {
     "name": "stderr",
     "output_type": "stream",
     "text": [
      "/shared/centos7/anaconda3/2021.05/lib/python3.8/site-packages/pandas/core/frame.py:4308: SettingWithCopyWarning: \n",
      "A value is trying to be set on a copy of a slice from a DataFrame\n",
      "\n",
      "See the caveats in the documentation: https://pandas.pydata.org/pandas-docs/stable/user_guide/indexing.html#returning-a-view-versus-a-copy\n",
      "  return super().drop(\n"
     ]
    }
   ],
   "source": [
    "new.drop(columns=['Flow Bytes/s', 'Flow Packets/s'], inplace=True)"
   ]
  },
  {
   "cell_type": "code",
   "execution_count": 14,
   "id": "35f72098-cd8f-4f7b-8711-da5e94854e52",
   "metadata": {},
   "outputs": [],
   "source": [
    "from sklearn.ensemble import RandomForestClassifier\n",
    "from sklearn.model_selection import train_test_split\n",
    "from sklearn.preprocessing import StandardScaler\n",
    "from sklearn.metrics import accuracy_score\n",
    "from sklearn.metrics import classification_report"
   ]
  },
  {
   "cell_type": "code",
   "execution_count": 25,
   "id": "8b60281a-ba14-4398-8fcd-a12c945ee441",
   "metadata": {},
   "outputs": [],
   "source": [
    "def preprocess(data):\n",
    "    # Separate features and labels\n",
    "    X = data.iloc[:, :-1]\n",
    "    y = data.iloc[:, -1]\n",
    "    # Split data into training and testing sets\n",
    "    X_train, X_test, y_train, y_test = train_test_split(X, y, test_size=0.2, random_state=42)\n",
    "    # Normalize the data\n",
    "    sc = StandardScaler()\n",
    "    X_train_scaled = pd.DataFrame(sc.fit_transform(X_train), columns = X.columns)\n",
    "    X_test_scaled = pd.DataFrame(sc.fit_transform(X_test), columns = X.columns)\n",
    "    return(X,y,X_train,X_test,X_train_scaled,X_test_scaled,y_train,y_test)"
   ]
  },
  {
   "cell_type": "code",
   "execution_count": 23,
   "id": "64d8eb95-533a-43ac-a0e5-742a073b771a",
   "metadata": {},
   "outputs": [],
   "source": [
    "def model_builder(X_train_scaled,y_train,X_test_scaled,y_test):\n",
    "    #Build the Model\n",
    "    rf=RandomForestClassifier()\n",
    "    rf.fit(X_train_scaled,y_train)\n",
    "    # Predict the classes of the test data\n",
    "    y_pred = rf.predict(X_test_scaled)\n",
    "    # Calculate the accuracy score of the classifier\n",
    "    accuracy = accuracy_score(y_test, y_pred)\n",
    "    report=classification_report(y_test, y_pred)\n",
    "    return(rf,accuracy,report)"
   ]
  },
  {
   "cell_type": "code",
   "execution_count": 27,
   "id": "74dae995-ba95-42ce-b221-d305a18010a6",
   "metadata": {},
   "outputs": [],
   "source": [
    "X,y,X_train,X_test,X_train_scaled,X_test_scaled,y_train,y_test=preprocess(new)"
   ]
  },
  {
   "cell_type": "code",
   "execution_count": 28,
   "id": "6107aa13-75d1-446d-ad9e-69a2c1b7813f",
   "metadata": {},
   "outputs": [
    {
     "name": "stderr",
     "output_type": "stream",
     "text": [
      "/home/gupta.aay/.local/lib/python3.8/site-packages/sklearn/metrics/_classification.py:1344: UndefinedMetricWarning: Precision and F-score are ill-defined and being set to 0.0 in labels with no predicted samples. Use `zero_division` parameter to control this behavior.\n",
      "  _warn_prf(average, modifier, msg_start, len(result))\n",
      "/home/gupta.aay/.local/lib/python3.8/site-packages/sklearn/metrics/_classification.py:1344: UndefinedMetricWarning: Precision and F-score are ill-defined and being set to 0.0 in labels with no predicted samples. Use `zero_division` parameter to control this behavior.\n",
      "  _warn_prf(average, modifier, msg_start, len(result))\n",
      "/home/gupta.aay/.local/lib/python3.8/site-packages/sklearn/metrics/_classification.py:1344: UndefinedMetricWarning: Precision and F-score are ill-defined and being set to 0.0 in labels with no predicted samples. Use `zero_division` parameter to control this behavior.\n",
      "  _warn_prf(average, modifier, msg_start, len(result))\n"
     ]
    }
   ],
   "source": [
    "model,accuracy,report=model_builder(X_train_scaled,y_train,X_test_scaled,y_test)"
   ]
  },
  {
   "cell_type": "code",
   "execution_count": 29,
   "id": "d0e70c1c-b45d-45d9-ba5f-71f6c0ab7a48",
   "metadata": {},
   "outputs": [
    {
     "name": "stdout",
     "output_type": "stream",
     "text": [
      "0.772918747058756\n"
     ]
    }
   ],
   "source": [
    "print(accuracy)"
   ]
  },
  {
   "cell_type": "code",
   "execution_count": 30,
   "id": "ccb637af-d1cf-4dab-a043-6472ea93abe9",
   "metadata": {},
   "outputs": [
    {
     "name": "stdout",
     "output_type": "stream",
     "text": [
      "                            precision    recall  f1-score   support\n",
      "\n",
      "                    BENIGN       0.69      1.00      0.82     89911\n",
      "                       Bot       1.00      0.01      0.03       392\n",
      "                      DDoS       1.00      0.59      0.74     25370\n",
      "             DoS GoldenEye       1.00      0.24      0.39      2031\n",
      "                  DoS Hulk       1.00      0.82      0.90     34262\n",
      "          DoS Slowhttptest       0.99      0.85      0.92      1025\n",
      "             DoS slowloris       1.00      0.37      0.54      1041\n",
      "               FTP-Patator       1.00      0.05      0.09       843\n",
      "                Heartbleed       1.00      1.00      1.00         2\n",
      "              Infiltration       1.00      0.14      0.25         7\n",
      "                  PortScan       0.92      0.00      0.00     18314\n",
      "               SSH-Patator       1.00      0.01      0.02       648\n",
      "  Web Attack � Brute Force       0.00      0.00      0.00       281\n",
      "Web Attack � Sql Injection       0.00      0.00      0.00         4\n",
      "          Web Attack � XSS       0.00      0.00      0.00       115\n",
      "\n",
      "                  accuracy                           0.77    174246\n",
      "                 macro avg       0.77      0.34      0.38    174246\n",
      "              weighted avg       0.83      0.77      0.72    174246\n",
      "\n"
     ]
    }
   ],
   "source": [
    "print(report)"
   ]
  },
  {
   "cell_type": "code",
   "execution_count": 31,
   "id": "0f97f1a1-559b-4962-9326-e80ccbff31a7",
   "metadata": {},
   "outputs": [],
   "source": [
    "importance = model.feature_importances_"
   ]
  },
  {
   "cell_type": "code",
   "execution_count": 32,
   "id": "0f354021-377c-4b59-99b9-a62bfde6321b",
   "metadata": {},
   "outputs": [
    {
     "name": "stdout",
     "output_type": "stream",
     "text": [
      "Average Packet Size: 0.08475733408614067\n",
      "Avg Bwd Segment Size: 0.0839328428943627\n",
      "Packet Length Std: 0.08234055361188224\n",
      "Subflow Bwd Bytes: 0.06743341363194802\n",
      "Subflow Fwd Bytes: 0.06484027536993983\n",
      "Bwd Packet Length Std: 0.06165137815495421\n",
      "Fwd IAT Std: 0.05975854237366428\n",
      "Avg Fwd Segment Size: 0.05111471357694336\n",
      "Init_Win_bytes_forward: 0.045236836708910176\n",
      "Fwd Packet Length Std: 0.04216032979216092\n",
      "Total Fwd Packets: 0.036465766195670025\n",
      "Flow IAT Mean: 0.034341617298901436\n",
      "act_data_pkt_fwd: 0.03320139933902334\n",
      "Init_Win_bytes_backward: 0.03226740116700316\n",
      "Destination Port: 0.030000239517902535\n",
      "Subflow Fwd Packets: 0.026290239949757477\n",
      "PSH Flag Count: 0.02562687169489369\n",
      "Flow Duration: 0.024342527405361997\n",
      "Bwd Packets/s: 0.02123636631857587\n",
      "ACK Flag Count: 0.02061424514858479\n",
      "Subflow Bwd Packets: 0.015098358187583165\n",
      "Fwd Packets/s: 0.01436133075104506\n",
      "Total Backward Packets: 0.013808227890723503\n",
      "min_seg_size_forward: 0.011388004865330063\n",
      "Bwd IAT Std: 0.005778098540629111\n",
      "FIN Flag Count: 0.0033856933882525694\n",
      "Idle Std: 0.002668636033473159\n",
      "Down/Up Ratio: 0.0024713387932941647\n",
      "URG Flag Count: 0.0015461636951837226\n",
      "Active Std: 0.0011176714529941842\n",
      "SYN Flag Count: 0.00040820300033828056\n",
      "Fwd PSH Flags: 0.00034929594460991856\n",
      "Fwd URG Flags: 3.188989571980996e-06\n",
      "CWE Flag Count: 1.3944621906686796e-06\n",
      "RST Flag Count: 1.3797219368416414e-06\n",
      "ECE Flag Count: 1.2004626289502315e-07\n",
      "Fwd Avg Bulk Rate: 0.0\n",
      "Bwd Avg Bulk Rate: 0.0\n",
      "Bwd PSH Flags: 0.0\n",
      "Bwd URG Flags: 0.0\n"
     ]
    }
   ],
   "source": [
    "sorted_indices = importance.argsort()[::-1]\n",
    "for i in sorted_indices:\n",
    "    print(f'{X.columns[i]}: {importance[i]}')"
   ]
  },
  {
   "cell_type": "markdown",
   "id": "93e384a4-ed2f-43a1-b177-25304486c57a",
   "metadata": {},
   "source": [
    "# XGBoost"
   ]
  },
  {
   "cell_type": "code",
   "execution_count": 35,
   "id": "3e4c1bd0-4a45-4795-8f86-4ef54de3f6b7",
   "metadata": {},
   "outputs": [
    {
     "name": "stdout",
     "output_type": "stream",
     "text": [
      "Defaulting to user installation because normal site-packages is not writeable\n",
      "Collecting xgboost\n",
      "  Downloading xgboost-1.7.4-py3-none-manylinux2014_x86_64.whl (193.6 MB)\n",
      "\u001b[K     |████████████████████████████████| 193.6 MB 39 kB/s s eta 0:00:01    |██▊                             | 16.5 MB 11.1 MB/s eta 0:00:16\n",
      "\u001b[?25hRequirement already satisfied: scipy in /shared/centos7/anaconda3/2021.05/lib/python3.8/site-packages (from xgboost) (1.6.2)\n",
      "Requirement already satisfied: numpy in /shared/centos7/anaconda3/2021.05/lib/python3.8/site-packages (from xgboost) (1.20.1)\n",
      "Installing collected packages: xgboost\n",
      "Successfully installed xgboost-1.7.4\n"
     ]
    }
   ],
   "source": [
    "!pip install xgboost"
   ]
  },
  {
   "cell_type": "code",
   "execution_count": 36,
   "id": "13080371-a46d-4aca-98d2-718f514eab43",
   "metadata": {},
   "outputs": [],
   "source": [
    "from xgboost import XGBClassifier"
   ]
  },
  {
   "cell_type": "code",
   "execution_count": 46,
   "id": "d0ccd910-caa5-43b9-8b78-67541823340a",
   "metadata": {},
   "outputs": [],
   "source": [
    "# Split into features and target\n",
    "X = new.drop(['Label'], axis=1)\n",
    "y = new['Label']"
   ]
  },
  {
   "cell_type": "code",
   "execution_count": 47,
   "id": "0bee3a50-4133-420b-bac5-fad824b30e70",
   "metadata": {},
   "outputs": [],
   "source": [
    "from sklearn.preprocessing import LabelEncoder\n",
    "\n",
    "# Encode string labels into integer labels\n",
    "label_encoder = LabelEncoder()\n",
    "y = label_encoder.fit_transform(y)"
   ]
  },
  {
   "cell_type": "code",
   "execution_count": 48,
   "id": "6e12fe6e-d1d5-4e2f-9889-aa5975bac512",
   "metadata": {},
   "outputs": [],
   "source": [
    "X_train, X_test, y_train, y_test = train_test_split(X, y, test_size=0.2, random_state=42)"
   ]
  },
  {
   "cell_type": "code",
   "execution_count": 49,
   "id": "9c1be85c-25d7-4116-a481-c8bfdbaf805e",
   "metadata": {},
   "outputs": [],
   "source": [
    "from sklearn.preprocessing import StandardScaler\n",
    "scaler = StandardScaler()\n",
    "X_train = scaler.fit_transform(X_train)\n",
    "X_test = scaler.transform(X_test)"
   ]
  },
  {
   "cell_type": "code",
   "execution_count": 50,
   "id": "ae7cf6ee-c0cf-4240-be32-2abb71a254d3",
   "metadata": {},
   "outputs": [
    {
     "data": {
      "text/html": [
       "<style>#sk-container-id-1 {color: black;background-color: white;}#sk-container-id-1 pre{padding: 0;}#sk-container-id-1 div.sk-toggleable {background-color: white;}#sk-container-id-1 label.sk-toggleable__label {cursor: pointer;display: block;width: 100%;margin-bottom: 0;padding: 0.3em;box-sizing: border-box;text-align: center;}#sk-container-id-1 label.sk-toggleable__label-arrow:before {content: \"▸\";float: left;margin-right: 0.25em;color: #696969;}#sk-container-id-1 label.sk-toggleable__label-arrow:hover:before {color: black;}#sk-container-id-1 div.sk-estimator:hover label.sk-toggleable__label-arrow:before {color: black;}#sk-container-id-1 div.sk-toggleable__content {max-height: 0;max-width: 0;overflow: hidden;text-align: left;background-color: #f0f8ff;}#sk-container-id-1 div.sk-toggleable__content pre {margin: 0.2em;color: black;border-radius: 0.25em;background-color: #f0f8ff;}#sk-container-id-1 input.sk-toggleable__control:checked~div.sk-toggleable__content {max-height: 200px;max-width: 100%;overflow: auto;}#sk-container-id-1 input.sk-toggleable__control:checked~label.sk-toggleable__label-arrow:before {content: \"▾\";}#sk-container-id-1 div.sk-estimator input.sk-toggleable__control:checked~label.sk-toggleable__label {background-color: #d4ebff;}#sk-container-id-1 div.sk-label input.sk-toggleable__control:checked~label.sk-toggleable__label {background-color: #d4ebff;}#sk-container-id-1 input.sk-hidden--visually {border: 0;clip: rect(1px 1px 1px 1px);clip: rect(1px, 1px, 1px, 1px);height: 1px;margin: -1px;overflow: hidden;padding: 0;position: absolute;width: 1px;}#sk-container-id-1 div.sk-estimator {font-family: monospace;background-color: #f0f8ff;border: 1px dotted black;border-radius: 0.25em;box-sizing: border-box;margin-bottom: 0.5em;}#sk-container-id-1 div.sk-estimator:hover {background-color: #d4ebff;}#sk-container-id-1 div.sk-parallel-item::after {content: \"\";width: 100%;border-bottom: 1px solid gray;flex-grow: 1;}#sk-container-id-1 div.sk-label:hover label.sk-toggleable__label {background-color: #d4ebff;}#sk-container-id-1 div.sk-serial::before {content: \"\";position: absolute;border-left: 1px solid gray;box-sizing: border-box;top: 0;bottom: 0;left: 50%;z-index: 0;}#sk-container-id-1 div.sk-serial {display: flex;flex-direction: column;align-items: center;background-color: white;padding-right: 0.2em;padding-left: 0.2em;position: relative;}#sk-container-id-1 div.sk-item {position: relative;z-index: 1;}#sk-container-id-1 div.sk-parallel {display: flex;align-items: stretch;justify-content: center;background-color: white;position: relative;}#sk-container-id-1 div.sk-item::before, #sk-container-id-1 div.sk-parallel-item::before {content: \"\";position: absolute;border-left: 1px solid gray;box-sizing: border-box;top: 0;bottom: 0;left: 50%;z-index: -1;}#sk-container-id-1 div.sk-parallel-item {display: flex;flex-direction: column;z-index: 1;position: relative;background-color: white;}#sk-container-id-1 div.sk-parallel-item:first-child::after {align-self: flex-end;width: 50%;}#sk-container-id-1 div.sk-parallel-item:last-child::after {align-self: flex-start;width: 50%;}#sk-container-id-1 div.sk-parallel-item:only-child::after {width: 0;}#sk-container-id-1 div.sk-dashed-wrapped {border: 1px dashed gray;margin: 0 0.4em 0.5em 0.4em;box-sizing: border-box;padding-bottom: 0.4em;background-color: white;}#sk-container-id-1 div.sk-label label {font-family: monospace;font-weight: bold;display: inline-block;line-height: 1.2em;}#sk-container-id-1 div.sk-label-container {text-align: center;}#sk-container-id-1 div.sk-container {/* jupyter's `normalize.less` sets `[hidden] { display: none; }` but bootstrap.min.css set `[hidden] { display: none !important; }` so we also need the `!important` here to be able to override the default hidden behavior on the sphinx rendered scikit-learn.org. See: https://github.com/scikit-learn/scikit-learn/issues/21755 */display: inline-block !important;position: relative;}#sk-container-id-1 div.sk-text-repr-fallback {display: none;}</style><div id=\"sk-container-id-1\" class=\"sk-top-container\"><div class=\"sk-text-repr-fallback\"><pre>XGBClassifier(base_score=None, booster=None, callbacks=None,\n",
       "              colsample_bylevel=None, colsample_bynode=None,\n",
       "              colsample_bytree=None, early_stopping_rounds=None,\n",
       "              enable_categorical=False, eval_metric=None, feature_types=None,\n",
       "              gamma=None, gpu_id=None, grow_policy=None, importance_type=None,\n",
       "              interaction_constraints=None, learning_rate=None, max_bin=None,\n",
       "              max_cat_threshold=None, max_cat_to_onehot=None,\n",
       "              max_delta_step=None, max_depth=None, max_leaves=None,\n",
       "              min_child_weight=None, missing=nan, monotone_constraints=None,\n",
       "              n_estimators=100, n_jobs=None, num_class=15,\n",
       "              num_parallel_tree=None, objective=&#x27;multi:softmax&#x27;, ...)</pre><b>In a Jupyter environment, please rerun this cell to show the HTML representation or trust the notebook. <br />On GitHub, the HTML representation is unable to render, please try loading this page with nbviewer.org.</b></div><div class=\"sk-container\" hidden><div class=\"sk-item\"><div class=\"sk-estimator sk-toggleable\"><input class=\"sk-toggleable__control sk-hidden--visually\" id=\"sk-estimator-id-1\" type=\"checkbox\" checked><label for=\"sk-estimator-id-1\" class=\"sk-toggleable__label sk-toggleable__label-arrow\">XGBClassifier</label><div class=\"sk-toggleable__content\"><pre>XGBClassifier(base_score=None, booster=None, callbacks=None,\n",
       "              colsample_bylevel=None, colsample_bynode=None,\n",
       "              colsample_bytree=None, early_stopping_rounds=None,\n",
       "              enable_categorical=False, eval_metric=None, feature_types=None,\n",
       "              gamma=None, gpu_id=None, grow_policy=None, importance_type=None,\n",
       "              interaction_constraints=None, learning_rate=None, max_bin=None,\n",
       "              max_cat_threshold=None, max_cat_to_onehot=None,\n",
       "              max_delta_step=None, max_depth=None, max_leaves=None,\n",
       "              min_child_weight=None, missing=nan, monotone_constraints=None,\n",
       "              n_estimators=100, n_jobs=None, num_class=15,\n",
       "              num_parallel_tree=None, objective=&#x27;multi:softmax&#x27;, ...)</pre></div></div></div></div></div>"
      ],
      "text/plain": [
       "XGBClassifier(base_score=None, booster=None, callbacks=None,\n",
       "              colsample_bylevel=None, colsample_bynode=None,\n",
       "              colsample_bytree=None, early_stopping_rounds=None,\n",
       "              enable_categorical=False, eval_metric=None, feature_types=None,\n",
       "              gamma=None, gpu_id=None, grow_policy=None, importance_type=None,\n",
       "              interaction_constraints=None, learning_rate=None, max_bin=None,\n",
       "              max_cat_threshold=None, max_cat_to_onehot=None,\n",
       "              max_delta_step=None, max_depth=None, max_leaves=None,\n",
       "              min_child_weight=None, missing=nan, monotone_constraints=None,\n",
       "              n_estimators=100, n_jobs=None, num_class=15,\n",
       "              num_parallel_tree=None, objective='multi:softmax', ...)"
      ]
     },
     "execution_count": 50,
     "metadata": {},
     "output_type": "execute_result"
    }
   ],
   "source": [
    "# Train the XGBoost classifier\n",
    "model = XGBClassifier(objective='multi:softmax', num_class=len(np.unique(y)))\n",
    "model.fit(X_train, y_train)"
   ]
  },
  {
   "cell_type": "code",
   "execution_count": 51,
   "id": "30dde37d-fa33-4828-a502-fba3a8871786",
   "metadata": {},
   "outputs": [],
   "source": [
    "# Make predictions on the test set\n",
    "y_pred = model.predict(X_test)"
   ]
  },
  {
   "cell_type": "code",
   "execution_count": 52,
   "id": "193a0a69-1d81-486c-9b3e-1d08d9830759",
   "metadata": {},
   "outputs": [],
   "source": [
    "accuracy = accuracy_score(y_test, y_pred)\n",
    "report = classification_report(y_test, y_pred)"
   ]
  },
  {
   "cell_type": "code",
   "execution_count": 53,
   "id": "e27e788e-7805-44e2-90f7-e694fc409d6e",
   "metadata": {},
   "outputs": [
    {
     "name": "stdout",
     "output_type": "stream",
     "text": [
      "Accuracy: 0.9981462989107354\n"
     ]
    }
   ],
   "source": [
    "print(\"Accuracy:\", accuracy)"
   ]
  },
  {
   "cell_type": "code",
   "execution_count": 54,
   "id": "b51f7ef3-0d45-4908-b756-11fa6848d11d",
   "metadata": {},
   "outputs": [
    {
     "name": "stdout",
     "output_type": "stream",
     "text": [
      "Classification Report:               precision    recall  f1-score   support\n",
      "\n",
      "           0       1.00      1.00      1.00     89911\n",
      "           1       0.89      0.93      0.91       392\n",
      "           2       1.00      1.00      1.00     25370\n",
      "           3       1.00      1.00      1.00      2031\n",
      "           4       1.00      1.00      1.00     34262\n",
      "           5       0.99      0.99      0.99      1025\n",
      "           6       1.00      1.00      1.00      1041\n",
      "           7       1.00      1.00      1.00       843\n",
      "           8       1.00      1.00      1.00         2\n",
      "           9       1.00      0.43      0.60         7\n",
      "          10       1.00      1.00      1.00     18314\n",
      "          11       1.00      1.00      1.00       648\n",
      "          12       0.73      0.81      0.77       281\n",
      "          13       0.75      0.75      0.75         4\n",
      "          14       0.37      0.28      0.32       115\n",
      "\n",
      "    accuracy                           1.00    174246\n",
      "   macro avg       0.92      0.88      0.89    174246\n",
      "weighted avg       1.00      1.00      1.00    174246\n",
      "\n"
     ]
    }
   ],
   "source": [
    "print(\"Classification Report:\", report)"
   ]
  }
 ],
 "metadata": {
  "kernelspec": {
   "display_name": "Python 3",
   "language": "python",
   "name": "python3"
  },
  "language_info": {
   "codemirror_mode": {
    "name": "ipython",
    "version": 3
   },
   "file_extension": ".py",
   "mimetype": "text/x-python",
   "name": "python",
   "nbconvert_exporter": "python",
   "pygments_lexer": "ipython3",
   "version": "3.8.8"
  }
 },
 "nbformat": 4,
 "nbformat_minor": 5
}
